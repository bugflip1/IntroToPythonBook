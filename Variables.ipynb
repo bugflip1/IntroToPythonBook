{
 "cells": [
  {
   "cell_type": "code",
   "execution_count": 2,
   "id": "ffadf244-9fbd-4181-8b14-bef5024dd14d",
   "metadata": {},
   "outputs": [
    {
     "name": "stdout",
     "output_type": "stream",
     "text": [
      "54872\n"
     ]
    }
   ],
   "source": [
    "def cube(number):\n",
    "    return number * number * number\n",
    "\n",
    "thirty_eight_cubed = cube(38)\n",
    "print(thirty_eight_cubed)\n"
   ]
  },
  {
   "cell_type": "code",
   "execution_count": 3,
   "id": "807903fc-7ae7-40da-9622-c5169772b5e2",
   "metadata": {},
   "outputs": [
    {
     "data": {
      "text/plain": [
       "8"
      ]
     },
     "execution_count": 3,
     "metadata": {},
     "output_type": "execute_result"
    }
   ],
   "source": [
    "2**3"
   ]
  },
  {
   "cell_type": "code",
   "execution_count": 4,
   "id": "4983da7f-ad1d-481d-a3ea-a919fd747e21",
   "metadata": {},
   "outputs": [
    {
     "data": {
      "text/plain": [
       "5"
      ]
     },
     "execution_count": 4,
     "metadata": {},
     "output_type": "execute_result"
    }
   ],
   "source": [
    "10//2"
   ]
  },
  {
   "cell_type": "code",
   "execution_count": 5,
   "id": "75294d3e-20bd-4cd8-bdac-fa439c329877",
   "metadata": {},
   "outputs": [
    {
     "data": {
      "text/plain": [
       "3"
      ]
     },
     "execution_count": 5,
     "metadata": {},
     "output_type": "execute_result"
    }
   ],
   "source": [
    "10//3"
   ]
  },
  {
   "cell_type": "code",
   "execution_count": 6,
   "id": "107091e5-25c2-4ada-aa50-92b2f109071e",
   "metadata": {},
   "outputs": [
    {
     "data": {
      "text/plain": [
       "3.3333333333333335"
      ]
     },
     "execution_count": 6,
     "metadata": {},
     "output_type": "execute_result"
    }
   ],
   "source": [
    "10/3"
   ]
  },
  {
   "cell_type": "code",
   "execution_count": 7,
   "id": "06bdb9e4-73fa-421f-9890-28b71cf69865",
   "metadata": {},
   "outputs": [
    {
     "name": "stdout",
     "output_type": "stream",
     "text": [
      "You are 21 years old\n",
      "In 10 years, you will be 31 years old.\n",
      "In 20 years, you will be 41 years old.\n",
      "In 30 years, you will be 51 years old.\n",
      "In 40 years, you will be 61 years old.\n",
      "In 50 years, you will be 71 years old.\n",
      "In 60 years, you will be 81 years old.\n",
      "In 70 years, you will be 91 years old.\n",
      "In 80 years, you will be 101 years old.\n"
     ]
    }
   ],
   "source": [
    "age_given = 21\n",
    "start_year = 10\n",
    "\n",
    "print(f'You are {age_given} years old')\n",
    "\n",
    "while age_given < 100:\n",
    "    age_given += 10\n",
    "    print(f'In {start_year} years, you will be {age_given} years old.')\n",
    "    start_year += 10\n",
    "\n",
    "\n"
   ]
  },
  {
   "cell_type": "code",
   "execution_count": 10,
   "id": "96156056-92ce-4541-9668-325096bcc1f0",
   "metadata": {},
   "outputs": [
    {
     "name": "stdout",
     "output_type": "stream",
     "text": [
      "Your balance is 1050.0 after 2 years\n",
      "Your balance is 1102.5 after 3 years\n",
      "Your balance is 1157.625 after 4 years\n",
      "Your balance is 1215.5062500000001 after 5 years\n",
      "Your balance is 1276.2815625000003 after 6 years\n"
     ]
    }
   ],
   "source": [
    "balance = 1000.00\n",
    "counter = 1 \n",
    "\n",
    "while counter <= 5:\n",
    "    balance *= 1.05\n",
    "    counter += 1\n",
    "    print(f'Your balance is {balance} after {counter} years')"
   ]
  },
  {
   "cell_type": "code",
   "execution_count": null,
   "id": "29062c4b-5809-4910-ab5c-3edab42c6e5d",
   "metadata": {},
   "outputs": [],
   "source": []
  }
 ],
 "metadata": {
  "kernelspec": {
   "display_name": "Python 3 (ipykernel)",
   "language": "python",
   "name": "python3"
  },
  "language_info": {
   "codemirror_mode": {
    "name": "ipython",
    "version": 3
   },
   "file_extension": ".py",
   "mimetype": "text/x-python",
   "name": "python",
   "nbconvert_exporter": "python",
   "pygments_lexer": "ipython3",
   "version": "3.12.6"
  }
 },
 "nbformat": 4,
 "nbformat_minor": 5
}
