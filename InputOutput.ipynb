{
 "cells": [
  {
   "cell_type": "code",
   "execution_count": 5,
   "id": "f2f338c6-9b5f-48f5-bbbd-58bf53d88f18",
   "metadata": {},
   "outputs": [
    {
     "name": "stdout",
     "output_type": "stream",
     "text": [
      "1 2 3 4 5 a b\n",
      "1test2test3test4\n"
     ]
    }
   ],
   "source": [
    "print(1, 2, 3, 4, 5, 'a', 'b')\n",
    "print(1, 2, 3, 4, sep='')"
   ]
  },
  {
   "cell_type": "code",
   "execution_count": 17,
   "id": "e4b66b88-7400-4161-9528-956df9155480",
   "metadata": {},
   "outputs": [
    {
     "name": "stdout",
     "output_type": "stream",
     "text": [
      "Whats your name?\n",
      "\n"
     ]
    },
    {
     "name": "stdin",
     "output_type": "stream",
     "text": [
      " test\n"
     ]
    },
    {
     "name": "stdout",
     "output_type": "stream",
     "text": [
      "Good morning, test!\n"
     ]
    }
   ],
   "source": [
    "print(\"Whats your name?\")\n",
    "name = input()\n",
    "\n",
    "print(f'Good morning, {name}!')"
   ]
  },
  {
   "cell_type": "code",
   "execution_count": 18,
   "id": "59bdb977-8a01-48e6-bcc4-52d1b87883dd",
   "metadata": {},
   "outputs": [
    {
     "name": "stdin",
     "output_type": "stream",
     "text": [
      "whats your name? \n",
      " see this is what I wanted \n"
     ]
    },
    {
     "name": "stdout",
     "output_type": "stream",
     "text": [
      "Good morning, see this is what I wanted !\n"
     ]
    }
   ],
   "source": [
    "nameinput = input(\"whats your name? \\n\")\n",
    "\n",
    "print(f'Good morning, {nameinput}!')"
   ]
  },
  {
   "cell_type": "code",
   "execution_count": null,
   "id": "fcb8de7c-89a2-4ec5-b9aa-17bc1be71430",
   "metadata": {},
   "outputs": [],
   "source": []
  }
 ],
 "metadata": {
  "kernelspec": {
   "display_name": "Python 3 (ipykernel)",
   "language": "python",
   "name": "python3"
  },
  "language_info": {
   "codemirror_mode": {
    "name": "ipython",
    "version": 3
   },
   "file_extension": ".py",
   "mimetype": "text/x-python",
   "name": "python",
   "nbconvert_exporter": "python",
   "pygments_lexer": "ipython3",
   "version": "3.12.6"
  }
 },
 "nbformat": 4,
 "nbformat_minor": 5
}
