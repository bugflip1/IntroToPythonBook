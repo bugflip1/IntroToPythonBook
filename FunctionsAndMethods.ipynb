{
 "cells": [
  {
   "cell_type": "code",
   "execution_count": 1,
   "id": "3a770f1d-a7b1-41cf-bf2e-44d99c454fb7",
   "metadata": {},
   "outputs": [
    {
     "name": "stdout",
     "output_type": "stream",
     "text": [
      "\n",
      "None\n"
     ]
    }
   ],
   "source": [
    "print(print())"
   ]
  },
  {
   "cell_type": "code",
   "execution_count": 2,
   "id": "dea84d8a-bb58-46e6-bcf7-0dd3f9ee0cf6",
   "metadata": {},
   "outputs": [
    {
     "name": "stdout",
     "output_type": "stream",
     "text": [
      "Hello\n"
     ]
    },
    {
     "data": {
      "text/plain": [
       "True"
      ]
     },
     "execution_count": 2,
     "metadata": {},
     "output_type": "execute_result"
    }
   ],
   "source": [
    "def hello():\n",
    "    print('Hello')\n",
    "    return True\n",
    "\n",
    "hello()"
   ]
  },
  {
   "cell_type": "code",
   "execution_count": 3,
   "id": "7e761535-0ea2-417e-b71d-21cf16a6f5e0",
   "metadata": {},
   "outputs": [
    {
     "name": "stdout",
     "output_type": "stream",
     "text": [
      "Hello\n",
      "True\n"
     ]
    }
   ],
   "source": [
    "print(hello())"
   ]
  },
  {
   "cell_type": "code",
   "execution_count": 4,
   "id": "c8c88659-98ad-47ba-9aba-54cbb7f5826e",
   "metadata": {},
   "outputs": [
    {
     "name": "stdout",
     "output_type": "stream",
     "text": [
      "False\n",
      "True\n",
      "True\n",
      "False\n"
     ]
    }
   ],
   "source": [
    "s = 'Hello, world!'\n",
    "t = 'Hello, world!'\n",
    "print(id(s) == id(t))         # False\n",
    "\n",
    "s = 'supercalifragilisticexpialidocious'\n",
    "t = 'supercalifragilisticexpialidocious'\n",
    "print(id(s) == id(t))         # True\n",
    "\n",
    "x = 5\n",
    "y = 5\n",
    "print(id(x) == id(y))         # True\n",
    "\n",
    "x = 5\n",
    "y = 6\n",
    "print(id(x) == id(y))         # Fa"
   ]
  },
  {
   "cell_type": "code",
   "execution_count": 7,
   "id": "7486a4f7-8fde-4d13-b045-cb1845e73d3d",
   "metadata": {},
   "outputs": [
    {
     "name": "stdout",
     "output_type": "stream",
     "text": [
      "['__bool__', '__class__', '__contains__', '__delattr__', '__dir__', '__doc__', '__eq__', '__format__', '__ge__', '__getattribute__', '__getitem__', '__getstate__', '__gt__', '__hash__', '__init__', '__init_subclass__', '__iter__', '__le__', '__len__', '__lt__', '__ne__', '__new__', '__reduce__', '__reduce_ex__', '__repr__', '__reversed__', '__setattr__', '__sizeof__', '__str__', '__subclasshook__', 'count', 'index', 'start', 'step', 'stop']\n"
     ]
    }
   ],
   "source": [
    "print(sorted(dir(range(1))))"
   ]
  },
  {
   "cell_type": "code",
   "execution_count": 8,
   "id": "32de954a-5b50-4a70-ac6d-39e774dd8d27",
   "metadata": {},
   "outputs": [],
   "source": [
    "names = sorted(dir(range(1)))\n",
    "\n",
    "names = [name for name in names \n",
    "         if '__' not in name]\n",
    "\n",
    "print(names)"
   ]
  },
  {
   "cell_type": "code",
   "execution_count": 2,
   "id": "0fc88595-4999-43ca-8d85-b660f4d86323",
   "metadata": {},
   "outputs": [
    {
     "name": "stdout",
     "output_type": "stream",
     "text": [
      "['__bool__',\n",
      " '__class__',\n",
      " '__contains__',\n",
      " '__delattr__',\n",
      " '__dir__',\n",
      " '__doc__',\n",
      " '__eq__',\n",
      " '__format__',\n",
      " '__ge__',\n",
      " '__getattribute__',\n",
      " '__getitem__',\n",
      " '__getstate__',\n",
      " '__gt__',\n",
      " '__hash__',\n",
      " '__init__',\n",
      " '__init_subclass__',\n",
      " '__iter__',\n",
      " '__le__',\n",
      " '__len__',\n",
      " '__lt__',\n",
      " '__ne__',\n",
      " '__new__',\n",
      " '__reduce__',\n",
      " '__reduce_ex__',\n",
      " '__repr__',\n",
      " '__reversed__',\n",
      " '__setattr__',\n",
      " '__sizeof__',\n",
      " '__str__',\n",
      " '__subclasshook__',\n",
      " 'count',\n",
      " 'index',\n",
      " 'start',\n",
      " 'step',\n",
      " 'stop']\n"
     ]
    }
   ],
   "source": [
    "from pprint import pp\n",
    "names = sorted(dir(range(1)))\n",
    "pp(names)"
   ]
  },
  {
   "cell_type": "code",
   "execution_count": 3,
   "id": "c60677d0-082e-4d93-931d-c5da72376b19",
   "metadata": {},
   "outputs": [
    {
     "name": "stdout",
     "output_type": "stream",
     "text": [
      "Welcome to Python 3.12's help utility! If this is your first time using\n",
      "Python, you should definitely check out the tutorial at\n",
      "https://docs.python.org/3.12/tutorial/.\n",
      "\n",
      "Enter the name of any module, keyword, or topic to get help on writing\n",
      "Python programs and using Python modules.  To get a list of available\n",
      "modules, keywords, symbols, or topics, enter \"modules\", \"keywords\",\n",
      "\"symbols\", or \"topics\".\n",
      "\n",
      "Each module also comes with a one-line summary of what it does; to list\n",
      "the modules whose name or summary contain a given string such as \"spam\",\n",
      "enter \"modules spam\".\n",
      "\n",
      "To quit this help utility and return to the interpreter,\n",
      "enter \"q\" or \"quit\".\n",
      "\n"
     ]
    },
    {
     "name": "stdin",
     "output_type": "stream",
     "text": [
      "help>  for\n"
     ]
    },
    {
     "name": "stdout",
     "output_type": "stream",
     "text": [
      "The \"for\" statement\n",
      "*******************\n",
      "\n",
      "The \"for\" statement is used to iterate over the elements of a sequence\n",
      "(such as a string, tuple or list) or other iterable object:\n",
      "\n",
      "   for_stmt ::= \"for\" target_list \"in\" starred_list \":\" suite\n",
      "                [\"else\" \":\" suite]\n",
      "\n",
      "The \"starred_list\" expression is evaluated once; it should yield an\n",
      "*iterable* object.  An *iterator* is created for that iterable. The\n",
      "first item provided by the iterator is then assigned to the target\n",
      "list using the standard rules for assignments (see Assignment\n",
      "statements), and the suite is executed.  This repeats for each item\n",
      "provided by the iterator.  When the iterator is exhausted, the suite\n",
      "in the \"else\" clause, if present, is executed, and the loop\n",
      "terminates.\n",
      "\n",
      "A \"break\" statement executed in the first suite terminates the loop\n",
      "without executing the \"else\" clause’s suite.  A \"continue\" statement\n",
      "executed in the first suite skips the rest of the suite and continues\n",
      "with the next item, or with the \"else\" clause if there is no next\n",
      "item.\n",
      "\n",
      "The for-loop makes assignments to the variables in the target list.\n",
      "This overwrites all previous assignments to those variables including\n",
      "those made in the suite of the for-loop:\n",
      "\n",
      "   for i in range(10):\n",
      "       print(i)\n",
      "       i = 5             # this will not affect the for-loop\n",
      "                         # because i will be overwritten with the next\n",
      "                         # index in the range\n",
      "\n",
      "Names in the target list are not deleted when the loop is finished,\n",
      "but if the sequence is empty, they will not have been assigned to at\n",
      "all by the loop.  Hint: the built-in type \"range()\" represents\n",
      "immutable arithmetic sequences of integers. For instance, iterating\n",
      "\"range(3)\" successively yields 0, 1, and then 2.\n",
      "\n",
      "Changed in version 3.11: Starred elements are now allowed in the\n",
      "expression list.\n",
      "\n",
      "Related help topics: break, continue, while\n",
      "\n"
     ]
    },
    {
     "name": "stdin",
     "output_type": "stream",
     "text": [
      "help>  q\n"
     ]
    },
    {
     "name": "stdout",
     "output_type": "stream",
     "text": [
      "\n",
      "You are now leaving help and returning to the Python interpreter.\n",
      "If you want to ask for help on a particular object directly from the\n",
      "interpreter, you can type \"help(object)\".  Executing \"help('string')\"\n",
      "has the same effect as typing a particular string at the help> prompt.\n"
     ]
    }
   ],
   "source": [
    "help()"
   ]
  },
  {
   "cell_type": "code",
   "execution_count": 6,
   "id": "1895631b-82f2-468f-bb21-080c21e57c16",
   "metadata": {},
   "outputs": [
    {
     "name": "stdout",
     "output_type": "stream",
     "text": [
      "Output from say\n",
      "Help on function say in module __main__:\n",
      "\n",
      "say()\n",
      "    this is a function that i am testing\n",
      "\n"
     ]
    }
   ],
   "source": [
    "def say():\n",
    "\n",
    "    \"\"\"\n",
    "    this is a function that i am testing\n",
    "    \"\"\"\n",
    "    print('Output from say')\n",
    "\n",
    "say()\n",
    "help(say)"
   ]
  },
  {
   "cell_type": "code",
   "execution_count": 11,
   "id": "e889a90c-6cd3-4ebb-b9f8-4eb84615969c",
   "metadata": {},
   "outputs": [
    {
     "name": "stdout",
     "output_type": "stream",
     "text": [
      "Hello\n"
     ]
    },
    {
     "ename": "UnboundLocalError",
     "evalue": "cannot access local variable 'bar' where it is not associated with a value",
     "output_type": "error",
     "traceback": [
      "\u001b[0;31m---------------------------------------------------------------------------\u001b[0m",
      "\u001b[0;31mUnboundLocalError\u001b[0m                         Traceback (most recent call last)",
      "Cell \u001b[0;32mIn[11], line 10\u001b[0m\n\u001b[1;32m      7\u001b[0m     \u001b[38;5;28mprint\u001b[39m(foo)\n\u001b[1;32m      8\u001b[0m     \u001b[38;5;28mprint\u001b[39m(bar)\n\u001b[0;32m---> 10\u001b[0m \u001b[43mscope_test\u001b[49m\u001b[43m(\u001b[49m\u001b[43m)\u001b[49m\n",
      "Cell \u001b[0;32mIn[11], line 8\u001b[0m, in \u001b[0;36mscope_test\u001b[0;34m()\u001b[0m\n\u001b[1;32m      5\u001b[0m     bar \u001b[38;5;241m=\u001b[39m \u001b[38;5;124m'\u001b[39m\u001b[38;5;124mGoodbye\u001b[39m\u001b[38;5;124m'\u001b[39m\n\u001b[1;32m      7\u001b[0m \u001b[38;5;28mprint\u001b[39m(foo)\n\u001b[0;32m----> 8\u001b[0m \u001b[38;5;28mprint\u001b[39m(\u001b[43mbar\u001b[49m)\n",
      "\u001b[0;31mUnboundLocalError\u001b[0m: cannot access local variable 'bar' where it is not associated with a value"
     ]
    }
   ],
   "source": [
    "def scope_test():\n",
    "    if True:\n",
    "        foo = 'Hello'\n",
    "    else:\n",
    "        bar = 'Goodbye'\n",
    "\n",
    "    print(foo)\n",
    "    print(bar)\n",
    "\n",
    "scope_test()"
   ]
  },
  {
   "cell_type": "code",
   "execution_count": 12,
   "id": "73140c6b-8fa6-4c67-8570-0730c8a36388",
   "metadata": {},
   "outputs": [
    {
     "name": "stdout",
     "output_type": "stream",
     "text": [
      "hello\n",
      "hi\n",
      "how do you do?\n",
      "Quite all right\n"
     ]
    }
   ],
   "source": [
    "def say(text):\n",
    "    print(text)\n",
    "\n",
    "say('hello')\n",
    "say('hi')\n",
    "say('how do you do?')\n",
    "say('Quite all right')"
   ]
  },
  {
   "cell_type": "code",
   "execution_count": 2,
   "id": "95d02d29-68d7-466b-ad1e-d1d07050a529",
   "metadata": {},
   "outputs": [
    {
     "name": "stdout",
     "output_type": "stream",
     "text": [
      "False\n",
      "True\n",
      "False\n",
      "True\n"
     ]
    }
   ],
   "source": [
    "def remainders_5(numbers):\n",
    "    return [numbers % 5 for numbers in numbers]\n",
    "\n",
    "def anyprint(numbers):\n",
    "    print(all(remainders_5(numbers)))\n",
    "\n",
    "numbers_1 = [0, 1, 2, 3, 4, 5, 6, 7, 8, 9, 10]\n",
    "numbers_2 = [1, 2, 3, 4, 6, 7, 8, 9]\n",
    "numbers_3 = [0, 5, 10]\n",
    "numbers_4 = []\n",
    "\n",
    "anyprint(numbers_1)\n",
    "anyprint(numbers_2)\n",
    "anyprint(numbers_3)\n",
    "anyprint(numbers_4)"
   ]
  },
  {
   "cell_type": "code",
   "execution_count": null,
   "id": "33f720ce-e3a6-47f5-b76d-0e55106ad3e1",
   "metadata": {},
   "outputs": [],
   "source": []
  }
 ],
 "metadata": {
  "kernelspec": {
   "display_name": "Python 3 (ipykernel)",
   "language": "python",
   "name": "python3"
  },
  "language_info": {
   "codemirror_mode": {
    "name": "ipython",
    "version": 3
   },
   "file_extension": ".py",
   "mimetype": "text/x-python",
   "name": "python",
   "nbconvert_exporter": "python",
   "pygments_lexer": "ipython3",
   "version": "3.12.6"
  }
 },
 "nbformat": 4,
 "nbformat_minor": 5
}
