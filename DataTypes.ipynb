{
 "cells": [
  {
   "cell_type": "code",
   "execution_count": 2,
   "id": "85a23e58-c709-4dfa-b980-a23c4a1032f1",
   "metadata": {},
   "outputs": [
    {
     "ename": "SyntaxError",
     "evalue": "invalid syntax (4085653462.py, line 1)",
     "output_type": "error",
     "traceback": [
      "\u001b[0;36m  Cell \u001b[0;32mIn[2], line 1\u001b[0;36m\u001b[0m\n\u001b[0;31m    f8 times 8 equals {8 * 8}.\u001b[0m\n\u001b[0m       ^\u001b[0m\n\u001b[0;31mSyntaxError\u001b[0m\u001b[0;31m:\u001b[0m invalid syntax\n"
     ]
    }
   ],
   "source": [
    "f'8 times 8 equals {8 * 8}.'"
   ]
  },
  {
   "cell_type": "code",
   "execution_count": 3,
   "id": "f0e56049-c2fa-4d37-9cbb-6f4c23d08a24",
   "metadata": {},
   "outputs": [
    {
     "name": "stdout",
     "output_type": "stream",
     "text": [
      "8 times 8 equals 64.\n"
     ]
    }
   ],
   "source": [
    "print(f'8 times 8 equals {8 * 8}.')"
   ]
  },
  {
   "cell_type": "code",
   "execution_count": 4,
   "id": "d067a9c2-1465-47c0-8989-cf8fd99e09c7",
   "metadata": {},
   "outputs": [
    {
     "name": "stdout",
     "output_type": "stream",
     "text": [
      "the better username is bugflip, and the worse username is nicklesch.\n"
     ]
    }
   ],
   "source": [
    "user1 = 'bugflip'\n",
    "user2 = 'nicklesch'\n",
    "\n",
    "adjective1 = 'better'\n",
    "adjective2 = 'worse'\n",
    "\n",
    "print(f'the {adjective1} username is {user1}, and the {adjective2} username is {user2}.')"
   ]
  },
  {
   "cell_type": "code",
   "execution_count": 5,
   "id": "5042548b-6384-4c10-a775-610407f5208c",
   "metadata": {},
   "outputs": [
    {
     "data": {
      "text/plain": [
       "'use {enter interpolation here} to interpolate into a string'"
      ]
     },
     "execution_count": 5,
     "metadata": {},
     "output_type": "execute_result"
    }
   ],
   "source": [
    "f'use {{enter interpolation here}} to interpolate into a string'"
   ]
  },
  {
   "cell_type": "code",
   "execution_count": 12,
   "id": "79522d6e-0fe6-4c7d-a097-47d1a96f728a",
   "metadata": {},
   "outputs": [
    {
     "name": "stdout",
     "output_type": "stream",
     "text": [
      "10,292.92304239585064\n"
     ]
    }
   ],
   "source": [
    "floatnum = 10292.92304239585038\n",
    "\n",
    "print(f'{floatnum:,.14f}')"
   ]
  },
  {
   "cell_type": "code",
   "execution_count": 15,
   "id": "d2502088-6849-47a4-8040-ebc66de09689",
   "metadata": {},
   "outputs": [
    {
     "name": "stdout",
     "output_type": "stream",
     "text": [
      "[1, 'xyz', True, [1, 2, 3]]\n",
      "('this is a tup test', 343, 3, False)\n"
     ]
    }
   ],
   "source": [
    "my_list = [1, 'xyz', True, [1, 2, 3,]]\n",
    "\n",
    "print(my_list)\n",
    "\n",
    "tup = ('this is a tup test', 343, 3, False)\n",
    "\n",
    "print(tup)"
   ]
  },
  {
   "cell_type": "code",
   "execution_count": 16,
   "id": "d6ba077b-37a9-47e2-a078-f55520878d23",
   "metadata": {},
   "outputs": [
    {
     "data": {
      "text/plain": [
       "True"
      ]
     },
     "execution_count": 16,
     "metadata": {},
     "output_type": "execute_result"
    }
   ],
   "source": [
    "my_list[2]\n"
   ]
  },
  {
   "cell_type": "code",
   "execution_count": 18,
   "id": "87572990-c3d0-4584-83f3-993112888991",
   "metadata": {},
   "outputs": [
    {
     "name": "stdout",
     "output_type": "stream",
     "text": [
      "[1, 'xyz', True, [1, 2, 3], 'this is a test to add to the list']\n"
     ]
    }
   ],
   "source": [
    "my_list.insert(4,'this is a test to add to the list')\n",
    "\n",
    "print(my_list)"
   ]
  },
  {
   "cell_type": "code",
   "execution_count": 28,
   "id": "ea889ae4-3ac4-4710-8d55-d695597ffe87",
   "metadata": {},
   "outputs": [
    {
     "data": {
      "text/plain": [
       "(0,\n",
       " -3454,\n",
       " -6908,\n",
       " -10362,\n",
       " -13816,\n",
       " -17270,\n",
       " -20724,\n",
       " -24178,\n",
       " -27632,\n",
       " -31086,\n",
       " -34540)"
      ]
     },
     "execution_count": 28,
     "metadata": {},
     "output_type": "execute_result"
    }
   ],
   "source": [
    "tuple(range(0,-34542, -3454))"
   ]
  },
  {
   "cell_type": "code",
   "execution_count": 36,
   "id": "82992cef-bc2f-42c4-8966-4b4e7692231d",
   "metadata": {},
   "outputs": [
    {
     "data": {
      "text/plain": [
       "'barks'"
      ]
     },
     "execution_count": 36,
     "metadata": {},
     "output_type": "execute_result"
    }
   ],
   "source": [
    "my_dict = {\n",
    "    'dog': 'barks',\n",
    "    'cat': 'meows',\n",
    "    'pig': 'oinks', }\n",
    "my_dict['dog']\n"
   ]
  },
  {
   "cell_type": "code",
   "execution_count": 37,
   "id": "9669d109-d3f6-4863-8374-efcf1d1bbcad",
   "metadata": {},
   "outputs": [],
   "source": [
    "Best_movie = {\n",
    "    'name': 'Interstellar',\n",
    "    'director': 'Christopher Nolan',\n",
    "    'year': '2011',\n",
    "    'info': 'this is a movie about space travel and time travel',\n",
    "}"
   ]
  },
  {
   "cell_type": "code",
   "execution_count": 38,
   "id": "74a0d8ef-7003-4dc1-b4ca-05baaed8e2a4",
   "metadata": {},
   "outputs": [
    {
     "data": {
      "text/plain": [
       "'Interstellar'"
      ]
     },
     "execution_count": 38,
     "metadata": {},
     "output_type": "execute_result"
    }
   ],
   "source": [
    "Best_movie['name']"
   ]
  },
  {
   "cell_type": "code",
   "execution_count": 42,
   "id": "134bee2b-3aca-473f-81e3-4f41b71662b9",
   "metadata": {},
   "outputs": [
    {
     "name": "stdout",
     "output_type": "stream",
     "text": [
      "Christopher Nolan\n",
      "this is a movie about space travel and time travel\n",
      "2011\n"
     ]
    }
   ],
   "source": [
    "print(Best_movie['director'])\n",
    "print(Best_movie['info'])\n",
    "print(Best_movie['year'])"
   ]
  },
  {
   "cell_type": "code",
   "execution_count": 1,
   "id": "612c19e1-9b88-41d2-88a3-3aca2af90fa4",
   "metadata": {},
   "outputs": [
    {
     "name": "stdout",
     "output_type": "stream",
     "text": [
      "set()\n"
     ]
    }
   ],
   "source": [
    "s2 = set()\n",
    "print(s2)"
   ]
  },
  {
   "cell_type": "code",
   "execution_count": 2,
   "id": "ba5ddda3-7064-460c-a037-15eaeae76352",
   "metadata": {},
   "outputs": [
    {
     "data": {
      "text/plain": [
       "set"
      ]
     },
     "execution_count": 2,
     "metadata": {},
     "output_type": "execute_result"
    }
   ],
   "source": [
    "s1 = {2, 3, 4, 5, 6, 12}\n",
    "type(s1)"
   ]
  },
  {
   "cell_type": "code",
   "execution_count": 3,
   "id": "59115d04-3848-4bf7-ada4-593d66a8ad82",
   "metadata": {},
   "outputs": [
    {
     "data": {
      "text/plain": [
       "dict"
      ]
     },
     "execution_count": 3,
     "metadata": {},
     "output_type": "execute_result"
    }
   ],
   "source": [
    "d1 = { 3: 'three', 4: 'four'}\n",
    "\n",
    "type(d1)"
   ]
  },
  {
   "cell_type": "code",
   "execution_count": 4,
   "id": "54a86a01-ee85-4821-b024-e5c4eddf4c9d",
   "metadata": {},
   "outputs": [],
   "source": [
    "s3 = set(\"hello there this is a test for how well i can write this out no atuallly this is a test for how a set works\")"
   ]
  },
  {
   "cell_type": "code",
   "execution_count": 5,
   "id": "7442341e-9443-480a-8f38-3ca5abac3edc",
   "metadata": {},
   "outputs": [
    {
     "data": {
      "text/plain": [
       "{' ',\n",
       " 'a',\n",
       " 'c',\n",
       " 'e',\n",
       " 'f',\n",
       " 'h',\n",
       " 'i',\n",
       " 'k',\n",
       " 'l',\n",
       " 'n',\n",
       " 'o',\n",
       " 'r',\n",
       " 's',\n",
       " 't',\n",
       " 'u',\n",
       " 'w',\n",
       " 'y'}"
      ]
     },
     "execution_count": 5,
     "metadata": {},
     "output_type": "execute_result"
    }
   ],
   "source": [
    "s3"
   ]
  },
  {
   "cell_type": "code",
   "execution_count": 6,
   "id": "20957d85-dbf5-42cc-a58d-c9f3f742354d",
   "metadata": {},
   "outputs": [
    {
     "name": "stdout",
     "output_type": "stream",
     "text": [
      "{'h', 'e', 't', 'n', 'f', 'r', 'w', 'k', 'y', ' ', 'a', 'l', 'c', 'o', 'u', 'i', 's'}\n"
     ]
    }
   ],
   "source": [
    "print(s3)\n"
   ]
  },
  {
   "cell_type": "code",
   "execution_count": 7,
   "id": "1f344a06-c8a4-44a4-8fb5-623d0aedc8c9",
   "metadata": {},
   "outputs": [],
   "source": [
    "pet_names = (\n",
    "    'loyd',\n",
    "    'cody',\n",
    "    'pluto',\n",
    "    'hubble'\n",
    ")"
   ]
  },
  {
   "cell_type": "code",
   "execution_count": 9,
   "id": "dee67c3c-1867-4d51-a33c-488abe7d0de5",
   "metadata": {},
   "outputs": [
    {
     "name": "stdout",
     "output_type": "stream",
     "text": [
      "<class 'tuple'>\n",
      "('loyd', 'cody', 'pluto', 'hubble')\n"
     ]
    }
   ],
   "source": [
    "print(type(pet_names))\n",
    "print(pet_names)"
   ]
  },
  {
   "cell_type": "code",
   "execution_count": 21,
   "id": "465852aa-d8d2-46a3-b1f7-ef0d8c33e77e",
   "metadata": {},
   "outputs": [],
   "source": [
    "pet_map = {\n",
    "    'loyd':     'dog',\n",
    "    'pluto':    'dog',\n",
    "    'apollo':   'crested gecko',\n",
    "    'narsis':   'cockatiel'\n",
    "}"
   ]
  },
  {
   "cell_type": "code",
   "execution_count": 26,
   "id": "35bb1976-c05c-4dc8-ab7f-bffc0eee25fd",
   "metadata": {},
   "outputs": [
    {
     "data": {
      "text/plain": [
       "'dog'"
      ]
     },
     "execution_count": 26,
     "metadata": {},
     "output_type": "execute_result"
    }
   ],
   "source": [
    "pet_map['loyd']"
   ]
  },
  {
   "cell_type": "code",
   "execution_count": 27,
   "id": "736e7562-3667-419c-8911-c60b5fa5ff8b",
   "metadata": {},
   "outputs": [
    {
     "data": {
      "text/plain": [
       "'cockatiel'"
      ]
     },
     "execution_count": 27,
     "metadata": {},
     "output_type": "execute_result"
    }
   ],
   "source": [
    "pet_map['narsis']"
   ]
  },
  {
   "cell_type": "code",
   "execution_count": 28,
   "id": "95535077-f8af-430c-9a22-9a264705870a",
   "metadata": {},
   "outputs": [
    {
     "data": {
      "text/plain": [
       "'cockatiel'"
      ]
     },
     "execution_count": 28,
     "metadata": {},
     "output_type": "execute_result"
    }
   ],
   "source": [
    "pet_map['narsis']"
   ]
  },
  {
   "cell_type": "code",
   "execution_count": 32,
   "id": "02041688-bcba-4b52-a155-f1e8b738ccf7",
   "metadata": {},
   "outputs": [
    {
     "data": {
      "text/plain": [
       "'crested gecko'"
      ]
     },
     "execution_count": 32,
     "metadata": {},
     "output_type": "execute_result"
    }
   ],
   "source": [
    "pet_map['apollo']"
   ]
  },
  {
   "cell_type": "code",
   "execution_count": null,
   "id": "1da5977a-c204-4604-8de3-2552462df2c9",
   "metadata": {},
   "outputs": [],
   "source": []
  }
 ],
 "metadata": {
  "kernelspec": {
   "display_name": "Python 3 (ipykernel)",
   "language": "python",
   "name": "python3"
  },
  "language_info": {
   "codemirror_mode": {
    "name": "ipython",
    "version": 3
   },
   "file_extension": ".py",
   "mimetype": "text/x-python",
   "name": "python",
   "nbconvert_exporter": "python",
   "pygments_lexer": "ipython3",
   "version": "3.12.6"
  }
 },
 "nbformat": 4,
 "nbformat_minor": 5
}
