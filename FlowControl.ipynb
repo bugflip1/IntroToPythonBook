{
 "cells": [
  {
   "cell_type": "code",
   "execution_count": 1,
   "id": "79a7e9c3-b683-4649-b4db-84ede8b79ff3",
   "metadata": {},
   "outputs": [
    {
     "name": "stdout",
     "output_type": "stream",
     "text": [
      "True\n",
      "False\n",
      "True\n",
      "False\n",
      "False\n",
      "True\n",
      "False\n"
     ]
    }
   ],
   "source": [
    "print(5==5)\n",
    "print(5==4)\n",
    "\n",
    "print('abc' == 'abc')\n",
    "print('abc' == 'abcd')\n",
    "print(5 == '5')\n",
    "\n",
    "print([1,2,3] == [1,2,3,])\n",
    "print([1,2,3] == [3,2,1])"
   ]
  },
  {
   "cell_type": "code",
   "execution_count": 4,
   "id": "de47322a-f735-443b-9936-6e8b09a5c144",
   "metadata": {},
   "outputs": [
    {
     "name": "stdout",
     "output_type": "stream",
     "text": [
      "True\n",
      "False\n"
     ]
    }
   ],
   "source": [
    "print((5 == float(5)))\n",
    "\n",
    "big_num = 1295958395859594858\n",
    "\n",
    "print(float(big_num) == big_num)"
   ]
  },
  {
   "cell_type": "code",
   "execution_count": 5,
   "id": "88d7b75e-bc2c-4481-8a79-93e49c6f7d63",
   "metadata": {},
   "outputs": [
    {
     "name": "stdout",
     "output_type": "stream",
     "text": [
      "False\n"
     ]
    }
   ],
   "source": [
    "print('abc' == 'aBc')"
   ]
  },
  {
   "cell_type": "code",
   "execution_count": 6,
   "id": "925f9bd1-4f5f-4745-9801-17debb7a943a",
   "metadata": {},
   "outputs": [
    {
     "name": "stdout",
     "output_type": "stream",
     "text": [
      "ABDFDB\n"
     ]
    }
   ],
   "source": [
    "print('aBdfdB'.upper())"
   ]
  },
  {
   "cell_type": "code",
   "execution_count": 9,
   "id": "466dd8dc-190d-4323-9d53-dfea8ef8fbf4",
   "metadata": {},
   "outputs": [
    {
     "name": "stdout",
     "output_type": "stream",
     "text": [
      "sfedffgddgdfgrghnfgderfgf\n"
     ]
    }
   ],
   "source": [
    "print('sFedFFGDdgdfgRGHnFGdErFGF'.casefold())"
   ]
  },
  {
   "cell_type": "code",
   "execution_count": 10,
   "id": "bc2fed16-88bc-419a-be47-91155a5e865e",
   "metadata": {},
   "outputs": [
    {
     "name": "stdout",
     "output_type": "stream",
     "text": [
      "False\n"
     ]
    }
   ],
   "source": [
    "print(5 != 5)"
   ]
  },
  {
   "cell_type": "code",
   "execution_count": 11,
   "id": "f8018002-5e5e-40a5-9d9b-0ac38936a57f",
   "metadata": {},
   "outputs": [
    {
     "name": "stdout",
     "output_type": "stream",
     "text": [
      "False\n"
     ]
    }
   ],
   "source": [
    "print(not True)"
   ]
  },
  {
   "cell_type": "code",
   "execution_count": 12,
   "id": "89640530-4ef3-428b-a46d-19701a22e5c5",
   "metadata": {},
   "outputs": [
    {
     "name": "stdout",
     "output_type": "stream",
     "text": [
      "False\n"
     ]
    }
   ],
   "source": [
    "print(not(4 == 4))"
   ]
  },
  {
   "cell_type": "code",
   "execution_count": 13,
   "id": "6def570d-2a8e-4e3f-9454-409e1e6c9109",
   "metadata": {},
   "outputs": [
    {
     "name": "stdout",
     "output_type": "stream",
     "text": [
      "False\n"
     ]
    }
   ],
   "source": [
    "print(not 4 == 4)"
   ]
  },
  {
   "cell_type": "code",
   "execution_count": 15,
   "id": "8a3c5ba8-d804-48ea-a3d4-ada38752ec3d",
   "metadata": {},
   "outputs": [
    {
     "name": "stdout",
     "output_type": "stream",
     "text": [
      "5 is truthy\n"
     ]
    }
   ],
   "source": [
    "value = 5\n",
    "if value:\n",
    "    print(f'{value} is truthy')\n",
    "else:\n",
    "    print(f'{value} is falsy')"
   ]
  },
  {
   "cell_type": "code",
   "execution_count": 19,
   "id": "00aeae8a-1d06-4f46-b73f-18b822856ddc",
   "metadata": {},
   "outputs": [
    {
     "name": "stdout",
     "output_type": "stream",
     "text": [
      "True\n"
     ]
    }
   ],
   "source": [
    "foo = None\n",
    "bar = 'qux'\n",
    "\n",
    "is_ok = bool(foo or bar)\n",
    "    \n",
    "print(is_ok)"
   ]
  },
  {
   "cell_type": "code",
   "execution_count": 20,
   "id": "414afe45-605b-457d-9a70-c6918313f99c",
   "metadata": {},
   "outputs": [
    {
     "ename": "NameError",
     "evalue": "name 'true' is not defined",
     "output_type": "error",
     "traceback": [
      "\u001b[0;31m---------------------------------------------------------------------------\u001b[0m",
      "\u001b[0;31mNameError\u001b[0m                                 Traceback (most recent call last)",
      "Cell \u001b[0;32mIn[20], line 1\u001b[0m\n\u001b[0;32m----> 1\u001b[0m \u001b[43mtrue\u001b[49m\n\u001b[1;32m      2\u001b[0m true \n\u001b[1;32m      3\u001b[0m true\n",
      "\u001b[0;31mNameError\u001b[0m: name 'true' is not defined"
     ]
    }
   ],
   "source": [
    "true\n",
    "true \n",
    "true\n",
    "true\n",
    "false\n",
    "false\n",
    "true\n",
    "false\n",
    "\n",
    "true\n",
    "true\n",
    "true\n",
    "true\n",
    "true\n",
    "false\n",
    "fasle\n",
    "false\n"
   ]
  },
  {
   "cell_type": "code",
   "execution_count": 21,
   "id": "d1a56eb6-4e4c-47a8-9c63-018fa0ba3279",
   "metadata": {},
   "outputs": [
    {
     "name": "stdout",
     "output_type": "stream",
     "text": [
      "1\n",
      "3\n",
      "1\n",
      "1\n",
      "0\n",
      "0\n",
      "1\n",
      "0\n",
      "2\n",
      "3\n",
      "3\n",
      "2\n",
      "3\n",
      "0\n",
      "0\n",
      "0\n"
     ]
    }
   ],
   "source": [
    "print(1 or 2 and 3)\n",
    "print(0 or 2 and 3)\n",
    "print(1 or 0 and 3)\n",
    "print(1 or 2 and 0)\n",
    "print(0 or 0 and 3)\n",
    "print(0 or 2 and 0)\n",
    "print(1 or 0 and 0)\n",
    "print(0 or 0 and 0)\n",
    "\n",
    "print(1 and 2 or 3)\n",
    "print(0 and 2 or 3)\n",
    "print(1 and 0 or 3)\n",
    "print(1 and 2 or 0)\n",
    "print(0 and 0 or 3)\n",
    "print(0 and 2 or 0)\n",
    "print(1 and 0 or 0)\n",
    "print(0 and 0 or 0)"
   ]
  },
  {
   "cell_type": "code",
   "execution_count": 22,
   "id": "fee448f3-0ff5-480f-a7f0-3cfe3caf7c90",
   "metadata": {},
   "outputs": [
    {
     "data": {
      "text/plain": [
       "True"
      ]
     },
     "execution_count": 22,
     "metadata": {},
     "output_type": "execute_result"
    }
   ],
   "source": [
    "False\n",
    "True\n",
    "3\n",
    "True\n",
    "3\n",
    "True\n",
    "False\n",
    "False\n",
    "False\n",
    "True\n"
   ]
  },
  {
   "cell_type": "code",
   "execution_count": 23,
   "id": "9cb68925-2d3e-4a12-a304-63eab6f93511",
   "metadata": {},
   "outputs": [
    {
     "name": "stdout",
     "output_type": "stream",
     "text": [
      "2.5\n"
     ]
    }
   ],
   "source": [
    "print(5/2)"
   ]
  },
  {
   "cell_type": "code",
   "execution_count": 32,
   "id": "032829ec-d92d-40ae-902c-c3e4680d8795",
   "metadata": {},
   "outputs": [
    {
     "name": "stdout",
     "output_type": "stream",
     "text": [
      "2\n"
     ]
    }
   ],
   "source": [
    "print(5942 % 6)"
   ]
  },
  {
   "cell_type": "code",
   "execution_count": 2,
   "id": "d0464dda-3db7-4927-b2a3-7b97c819ad5a",
   "metadata": {},
   "outputs": [
    {
     "ename": "NameError",
     "evalue": "name 'foo' is not defined",
     "output_type": "error",
     "traceback": [
      "\u001b[0;31m---------------------------------------------------------------------------\u001b[0m",
      "\u001b[0;31mNameError\u001b[0m                                 Traceback (most recent call last)",
      "Cell \u001b[0;32mIn[2], line 1\u001b[0m\n\u001b[0;32m----> 1\u001b[0m \u001b[38;5;28;01mif\u001b[39;00m \u001b[43mfoo\u001b[49m():\n\u001b[1;32m      2\u001b[0m     \u001b[38;5;28mprint\u001b[39m(\u001b[38;5;124m'\u001b[39m\u001b[38;5;124mbar\u001b[39m\u001b[38;5;124m'\u001b[39m)\n\u001b[1;32m      3\u001b[0m \u001b[38;5;28;01melse\u001b[39;00m:\n",
      "\u001b[0;31mNameError\u001b[0m: name 'foo' is not defined"
     ]
    }
   ],
   "source": [
    "if foo():\n",
    "    print('bar')\n",
    "else:\n",
    "    qux()"
   ]
  },
  {
   "cell_type": "code",
   "execution_count": null,
   "id": "1810b4ce-1dc1-4657-82a7-eb0ff2d95c95",
   "metadata": {},
   "outputs": [],
   "source": []
  }
 ],
 "metadata": {
  "kernelspec": {
   "display_name": "Python 3 (ipykernel)",
   "language": "python",
   "name": "python3"
  },
  "language_info": {
   "codemirror_mode": {
    "name": "ipython",
    "version": 3
   },
   "file_extension": ".py",
   "mimetype": "text/x-python",
   "name": "python",
   "nbconvert_exporter": "python",
   "pygments_lexer": "ipython3",
   "version": "3.12.6"
  }
 },
 "nbformat": 4,
 "nbformat_minor": 5
}
