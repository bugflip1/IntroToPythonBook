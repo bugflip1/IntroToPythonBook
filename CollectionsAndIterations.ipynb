{
 "cells": [
  {
   "cell_type": "code",
   "execution_count": 35,
   "id": "9ecf0e93-4a40-4753-8ecc-b78f56667e7f",
   "metadata": {},
   "outputs": [
    {
     "name": "stdout",
     "output_type": "stream",
     "text": [
      "[[1, 2, 5], [4, 5, 6]]\n"
     ]
    }
   ],
   "source": [
    "this_list = [\n",
    "    'may',\n",
    "    2.99,\n",
    "    {None, True, False},\n",
    "    [1, 2, 3],\n",
    "]\n",
    "\n",
    "print(my_list)"
   ]
  },
  {
   "cell_type": "code",
   "execution_count": 2,
   "id": "88e0748a-d8ba-4366-b297-afb1c6653aa4",
   "metadata": {},
   "outputs": [
    {
     "data": {
      "text/plain": [
       "{False, None, True}"
      ]
     },
     "execution_count": 2,
     "metadata": {},
     "output_type": "execute_result"
    }
   ],
   "source": [
    "my_list[2]"
   ]
  },
  {
   "cell_type": "code",
   "execution_count": 4,
   "id": "8f512662-16f2-403f-85f1-5ec62ef10b2b",
   "metadata": {},
   "outputs": [
    {
     "data": {
      "text/plain": [
       "3"
      ]
     },
     "execution_count": 4,
     "metadata": {},
     "output_type": "execute_result"
    }
   ],
   "source": [
    "my_list[3][2]"
   ]
  },
  {
   "cell_type": "code",
   "execution_count": 5,
   "id": "9e3e5c95-6210-4ac2-9359-8f1ed84f2608",
   "metadata": {},
   "outputs": [],
   "source": [
    "string_list = 'abcdefghijklmnopqrstuvwxyz'"
   ]
  },
  {
   "cell_type": "code",
   "execution_count": 6,
   "id": "58b9bb5d-8b4c-4617-802c-4d68550975f3",
   "metadata": {},
   "outputs": [
    {
     "data": {
      "text/plain": [
       "'d'"
      ]
     },
     "execution_count": 6,
     "metadata": {},
     "output_type": "execute_result"
    }
   ],
   "source": [
    "string_list[3]"
   ]
  },
  {
   "cell_type": "code",
   "execution_count": 7,
   "id": "3b9fe387-c357-4891-95f6-5064daa1e13b",
   "metadata": {},
   "outputs": [
    {
     "data": {
      "text/plain": [
       "26"
      ]
     },
     "execution_count": 7,
     "metadata": {},
     "output_type": "execute_result"
    }
   ],
   "source": [
    "len(string_list)"
   ]
  },
  {
   "cell_type": "code",
   "execution_count": 10,
   "id": "9b857cac-8d53-4cf7-b127-c7313d5bb9ce",
   "metadata": {},
   "outputs": [
    {
     "name": "stdout",
     "output_type": "stream",
     "text": [
      "a\n",
      "b\n",
      "c\n",
      "d\n",
      "e\n",
      "f\n",
      "g\n",
      "h\n",
      "i\n",
      "j\n",
      "k\n",
      "l\n",
      "m\n",
      "n\n",
      "o\n",
      "p\n",
      "q\n",
      "r\n",
      "s\n",
      "t\n",
      "u\n",
      "v\n",
      "w\n",
      "x\n",
      "y\n",
      "z\n"
     ]
    }
   ],
   "source": [
    "x = 0\n",
    "while x != (len(string_list)):\n",
    "    print(string_list[x])\n",
    "    x += 1"
   ]
  },
  {
   "cell_type": "code",
   "execution_count": 11,
   "id": "e4711885-8003-436e-a607-7ba26223f51b",
   "metadata": {},
   "outputs": [],
   "source": [
    "letters = {'a', 'b', 'c'}"
   ]
  },
  {
   "cell_type": "code",
   "execution_count": 12,
   "id": "e6145f4b-2af0-4cf9-b15c-aadb0df8b505",
   "metadata": {},
   "outputs": [],
   "source": [
    "letters.add('d')"
   ]
  },
  {
   "cell_type": "code",
   "execution_count": 15,
   "id": "28a37abd-6d7e-493a-9b47-b5223a264c86",
   "metadata": {},
   "outputs": [
    {
     "name": "stdout",
     "output_type": "stream",
     "text": [
      "{'b', 'a', 'c', 'd'}\n"
     ]
    }
   ],
   "source": [
    "print(letters)"
   ]
  },
  {
   "cell_type": "raw",
   "id": "7a12f7ff-64e0-4993-a633-fbed483f6177",
   "metadata": {},
   "source": [
    "letters.add('d')"
   ]
  },
  {
   "cell_type": "code",
   "execution_count": 16,
   "id": "6c589a9d-6031-462f-93ba-b8c3ceff0c1f",
   "metadata": {},
   "outputs": [
    {
     "name": "stdout",
     "output_type": "stream",
     "text": [
      "{'b', 'a', 'c', 'd'}\n"
     ]
    }
   ],
   "source": [
    "print(letters)"
   ]
  },
  {
   "cell_type": "code",
   "execution_count": 17,
   "id": "e0c2cb57-12d0-4565-940c-2fca3e30100e",
   "metadata": {},
   "outputs": [],
   "source": [
    "letters.add('x')"
   ]
  },
  {
   "cell_type": "code",
   "execution_count": 18,
   "id": "7c0db8b8-a093-42b3-902d-62d135ad163f",
   "metadata": {},
   "outputs": [
    {
     "name": "stdout",
     "output_type": "stream",
     "text": [
      "{'b', 'd', 'c', 'a', 'x'}\n"
     ]
    }
   ],
   "source": [
    "print(letters)"
   ]
  },
  {
   "cell_type": "code",
   "execution_count": 19,
   "id": "d35ea066-19f4-4800-8901-7c900476d399",
   "metadata": {},
   "outputs": [],
   "source": [
    "frozen_letters= frozenset(letters)"
   ]
  },
  {
   "cell_type": "code",
   "execution_count": 21,
   "id": "d8d1c561-191e-44c1-84e7-5a001a79ee2a",
   "metadata": {},
   "outputs": [
    {
     "name": "stdout",
     "output_type": "stream",
     "text": [
      "{2.99, range(0, 5), (None, True, False), 'May'}\n"
     ]
    }
   ],
   "source": [
    "my_set = {\n",
    "    'May',\n",
    "    2.99,\n",
    "    (None, True, False),\n",
    "    range(5),\n",
    "}\n",
    "\n",
    "print(my_set)"
   ]
  },
  {
   "cell_type": "code",
   "execution_count": 32,
   "id": "49621256-a903-4a29-8579-159c0652bb6a",
   "metadata": {},
   "outputs": [
    {
     "name": "stdout",
     "output_type": "stream",
     "text": [
      "[[1, 2, 3], [4, 5, 6]]\n",
      "[[1, 2, 3], [4, 5, 6]]\n",
      "True\n",
      "False\n",
      "True\n",
      "True\n",
      "[[1, 2, 5], [4, 5, 6]]\n"
     ]
    }
   ],
   "source": [
    "my_list = [[1, 2, 3], [4, 5, 6]]\n",
    "another_list = list(my_list)\n",
    "\n",
    "print(my_list)                          # [[1, 2, 3], [4, 5, 6]]\n",
    "print(another_list)                     # [[1, 2, 3], [4, 5, 6]]\n",
    "\n",
    "print(my_list == another_list)          # True\n",
    "print(my_list is another_list)          # False\n",
    "print(my_list[0] is another_list[0])    # True\n",
    "print(my_list[1] is another_list[1])    # True\n",
    "\n",
    "another_list[0][2]= 5\n",
    "\n",
    "print(my_list)"
   ]
  },
  {
   "cell_type": "code",
   "execution_count": 36,
   "id": "3f4f5333-0f9d-4525-b9cf-5e22c211d04d",
   "metadata": {},
   "outputs": [
    {
     "data": {
      "text/plain": [
       "4"
      ]
     },
     "execution_count": 36,
     "metadata": {},
     "output_type": "execute_result"
    }
   ],
   "source": [
    "len(this_list)"
   ]
  },
  {
   "cell_type": "code",
   "execution_count": 50,
   "id": "501bb8ae-1e60-4c36-ad04-40106d9d8d69",
   "metadata": {},
   "outputs": [],
   "source": [
    "stuff = ('hello', 'world', 'bye', 'now')"
   ]
  },
  {
   "cell_type": "code",
   "execution_count": null,
   "id": "86871e1b-0a81-459b-b3c4-3d5af866bf90",
   "metadata": {},
   "outputs": [],
   "source": []
  },
  {
   "cell_type": "code",
   "execution_count": 51,
   "id": "2eeef6ef-e0bb-4259-a4c2-120254b04703",
   "metadata": {},
   "outputs": [],
   "source": [
    "tup_switch = list(stuff)"
   ]
  },
  {
   "cell_type": "code",
   "execution_count": 52,
   "id": "eeb0c660-3e1a-4218-a885-8f6737dd375b",
   "metadata": {},
   "outputs": [],
   "source": [
    "tup_switch[2] = 'goodbye'"
   ]
  },
  {
   "cell_type": "code",
   "execution_count": 53,
   "id": "f50ec7cc-ae3c-4d17-b8db-baac58785e1d",
   "metadata": {},
   "outputs": [],
   "source": [
    "stuff = tuple(tup_switch)"
   ]
  },
  {
   "cell_type": "code",
   "execution_count": 54,
   "id": "4a14310e-0fa8-4bed-bda0-cae9cab9b18c",
   "metadata": {},
   "outputs": [
    {
     "name": "stdout",
     "output_type": "stream",
     "text": [
      "('hello', 'world', 'goodbye', 'now')\n"
     ]
    }
   ],
   "source": [
    "print(stuff)"
   ]
  },
  {
   "cell_type": "code",
   "execution_count": 56,
   "id": "0f008e7e-9f9f-4124-b559-2942b6bbe6e0",
   "metadata": {},
   "outputs": [
    {
     "name": "stdout",
     "output_type": "stream",
     "text": [
      "3.141592\n"
     ]
    }
   ],
   "source": [
    "pi = 3.141592\n",
    "\n",
    "str_pi = str(pi)\n",
    "\n",
    "print(str_pi)"
   ]
  },
  {
   "cell_type": "code",
   "execution_count": 57,
   "id": "e5231029-7391-4acd-9d76-6744f1e392f8",
   "metadata": {},
   "outputs": [
    {
     "name": "stdout",
     "output_type": "stream",
     "text": [
      "[3, 7, 11, 15]\n",
      "3\n",
      "7\n",
      "11\n",
      "15\n"
     ]
    }
   ],
   "source": [
    "range_list = list(range(3, 17, 4))\n",
    "print(range_list)\n",
    "\n",
    "for yur in range_list:\n",
    "    print(yur)"
   ]
  },
  {
   "cell_type": "code",
   "execution_count": 73,
   "id": "c2f0726b-eb16-48cc-8d2a-3bbf7b2558cf",
   "metadata": {},
   "outputs": [
    {
     "name": "stdout",
     "output_type": "stream",
     "text": [
      "{'Chris', 'Victor', 'Karis', 'Karl', 'Clare', 'Max', 'Nick'}\n"
     ]
    }
   ],
   "source": [
    "names = { 'Chris', 'Clare', 'Karis', 'Karl',\n",
    "          'Max', 'Nick', 'Victor' }\n",
    "print(names)"
   ]
  },
  {
   "cell_type": "code",
   "execution_count": 74,
   "id": "6e67edd4-6cb7-479b-b277-aa9335c142a7",
   "metadata": {},
   "outputs": [
    {
     "name": "stdout",
     "output_type": "stream",
     "text": [
      "Help on class dict in module builtins:\n",
      "\n",
      "class dict(object)\n",
      " |  dict() -> new empty dictionary\n",
      " |  dict(mapping) -> new dictionary initialized from a mapping object's\n",
      " |      (key, value) pairs\n",
      " |  dict(iterable) -> new dictionary initialized as if via:\n",
      " |      d = {}\n",
      " |      for k, v in iterable:\n",
      " |          d[k] = v\n",
      " |  dict(**kwargs) -> new dictionary initialized with the name=value pairs\n",
      " |      in the keyword argument list.  For example:  dict(one=1, two=2)\n",
      " |\n",
      " |  Built-in subclasses:\n",
      " |      StgDict\n",
      " |\n",
      " |  Methods defined here:\n",
      " |\n",
      " |  __contains__(self, key, /)\n",
      " |      True if the dictionary has the specified key, else False.\n",
      " |\n",
      " |  __delitem__(self, key, /)\n",
      " |      Delete self[key].\n",
      " |\n",
      " |  __eq__(self, value, /)\n",
      " |      Return self==value.\n",
      " |\n",
      " |  __ge__(self, value, /)\n",
      " |      Return self>=value.\n",
      " |\n",
      " |  __getattribute__(self, name, /)\n",
      " |      Return getattr(self, name).\n",
      " |\n",
      " |  __getitem__(self, key, /)\n",
      " |      Return self[key].\n",
      " |\n",
      " |  __gt__(self, value, /)\n",
      " |      Return self>value.\n",
      " |\n",
      " |  __init__(self, /, *args, **kwargs)\n",
      " |      Initialize self.  See help(type(self)) for accurate signature.\n",
      " |\n",
      " |  __ior__(self, value, /)\n",
      " |      Return self|=value.\n",
      " |\n",
      " |  __iter__(self, /)\n",
      " |      Implement iter(self).\n",
      " |\n",
      " |  __le__(self, value, /)\n",
      " |      Return self<=value.\n",
      " |\n",
      " |  __len__(self, /)\n",
      " |      Return len(self).\n",
      " |\n",
      " |  __lt__(self, value, /)\n",
      " |      Return self<value.\n",
      " |\n",
      " |  __ne__(self, value, /)\n",
      " |      Return self!=value.\n",
      " |\n",
      " |  __or__(self, value, /)\n",
      " |      Return self|value.\n",
      " |\n",
      " |  __repr__(self, /)\n",
      " |      Return repr(self).\n",
      " |\n",
      " |  __reversed__(self, /)\n",
      " |      Return a reverse iterator over the dict keys.\n",
      " |\n",
      " |  __ror__(self, value, /)\n",
      " |      Return value|self.\n",
      " |\n",
      " |  __setitem__(self, key, value, /)\n",
      " |      Set self[key] to value.\n",
      " |\n",
      " |  __sizeof__(...)\n",
      " |      D.__sizeof__() -> size of D in memory, in bytes\n",
      " |\n",
      " |  clear(...)\n",
      " |      D.clear() -> None.  Remove all items from D.\n",
      " |\n",
      " |  copy(...)\n",
      " |      D.copy() -> a shallow copy of D\n",
      " |\n",
      " |  get(self, key, default=None, /)\n",
      " |      Return the value for key if key is in the dictionary, else default.\n",
      " |\n",
      " |  items(...)\n",
      " |      D.items() -> a set-like object providing a view on D's items\n",
      " |\n",
      " |  keys(...)\n",
      " |      D.keys() -> a set-like object providing a view on D's keys\n",
      " |\n",
      " |  pop(...)\n",
      " |      D.pop(k[,d]) -> v, remove specified key and return the corresponding value.\n",
      " |\n",
      " |      If the key is not found, return the default if given; otherwise,\n",
      " |      raise a KeyError.\n",
      " |\n",
      " |  popitem(self, /)\n",
      " |      Remove and return a (key, value) pair as a 2-tuple.\n",
      " |\n",
      " |      Pairs are returned in LIFO (last-in, first-out) order.\n",
      " |      Raises KeyError if the dict is empty.\n",
      " |\n",
      " |  setdefault(self, key, default=None, /)\n",
      " |      Insert key with a value of default if key is not in the dictionary.\n",
      " |\n",
      " |      Return the value for key if key is in the dictionary, else default.\n",
      " |\n",
      " |  update(...)\n",
      " |      D.update([E, ]**F) -> None.  Update D from dict/iterable E and F.\n",
      " |      If E is present and has a .keys() method, then does:  for k in E: D[k] = E[k]\n",
      " |      If E is present and lacks a .keys() method, then does:  for k, v in E: D[k] = v\n",
      " |      In either case, this is followed by: for k in F:  D[k] = F[k]\n",
      " |\n",
      " |  values(...)\n",
      " |      D.values() -> an object providing a view on D's values\n",
      " |\n",
      " |  ----------------------------------------------------------------------\n",
      " |  Class methods defined here:\n",
      " |\n",
      " |  __class_getitem__(...)\n",
      " |      See PEP 585\n",
      " |\n",
      " |  fromkeys(iterable, value=None, /)\n",
      " |      Create a new dictionary with keys from iterable and values set to value.\n",
      " |\n",
      " |  ----------------------------------------------------------------------\n",
      " |  Static methods defined here:\n",
      " |\n",
      " |  __new__(*args, **kwargs)\n",
      " |      Create and return a new object.  See help(type) for accurate signature.\n",
      " |\n",
      " |  ----------------------------------------------------------------------\n",
      " |  Data and other attributes defined here:\n",
      " |\n",
      " |  __hash__ = None\n",
      "\n"
     ]
    }
   ],
   "source": [
    "help(dict)"
   ]
  },
  {
   "cell_type": "code",
   "execution_count": 77,
   "id": "68409047-4570-4d70-a92b-b39c5c83f595",
   "metadata": {},
   "outputs": [
    {
     "name": "stdout",
     "output_type": "stream",
     "text": [
      "USA\n"
     ]
    }
   ],
   "source": [
    "places = {\n",
    "    'Alice':     'USA',\n",
    "    'Francois':  'Canada',\n",
    "    'Inti':      'Peru',\n",
    "    'Monika':    'Germany',\n",
    "    'Sanyu':     'Uganda',\n",
    "    'Yoshitaka': 'Japan'\n",
    "}\n",
    "\n",
    "print(places['Alice'])"
   ]
  },
  {
   "cell_type": "code",
   "execution_count": null,
   "id": "de49948a-727c-4f10-8358-7462a5474ddc",
   "metadata": {},
   "outputs": [],
   "source": []
  }
 ],
 "metadata": {
  "kernelspec": {
   "display_name": "Python 3 (ipykernel)",
   "language": "python",
   "name": "python3"
  },
  "language_info": {
   "codemirror_mode": {
    "name": "ipython",
    "version": 3
   },
   "file_extension": ".py",
   "mimetype": "text/x-python",
   "name": "python",
   "nbconvert_exporter": "python",
   "pygments_lexer": "ipython3",
   "version": "3.12.6"
  }
 },
 "nbformat": 4,
 "nbformat_minor": 5
}
