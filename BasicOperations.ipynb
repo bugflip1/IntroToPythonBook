{
 "cells": [
  {
   "cell_type": "code",
   "execution_count": 1,
   "id": "ded161b3-47c4-4d72-a5c9-70ef35733ef0",
   "metadata": {},
   "outputs": [
    {
     "name": "stdout",
     "output_type": "stream",
     "text": [
      "this is a test for jupyter\n"
     ]
    }
   ],
   "source": [
    "print('this is a test for jupyter')"
   ]
  },
  {
   "cell_type": "code",
   "execution_count": 14,
   "id": "05c0eb04-b0d7-4333-ade4-154614ed2e54",
   "metadata": {},
   "outputs": [
    {
     "name": "stdout",
     "output_type": "stream",
     "text": [
      "max value is 34\n"
     ]
    }
   ],
   "source": [
    "max = '0' \n",
    "for number in ['10', '2', '34', '6', '25']:\n",
    "    #print('max =', max, 'number =', number,\n",
    "         #'number > max =', number > max)\n",
    "    if int(number) > int(max):\n",
    "        max = number\n",
    "print('max value is', max)"
   ]
  },
  {
   "cell_type": "code",
   "execution_count": 2,
   "id": "7dd0bd2b-75fb-4ac9-bcfe-0959f3028b31",
   "metadata": {},
   "outputs": [
    {
     "data": {
      "text/plain": [
       "True"
      ]
     },
     "execution_count": 2,
     "metadata": {},
     "output_type": "execute_result"
    }
   ],
   "source": [
    "from decimal import Decimal\n",
    "Decimal('0.1') + Decimal('0.2') ==  Decimal('0.3')"
   ]
  },
  {
   "cell_type": "markdown",
   "id": "a74c2ccc-887c-404c-b2d9-863571ca78f1",
   "metadata": {
    "jp-MarkdownHeadingCollapsed": true
   },
   "source": [
    "0.1 + 0.2 = 0.3"
   ]
  },
  {
   "cell_type": "code",
   "execution_count": 3,
   "id": "d2ec8f09-0c4e-4fe5-aef7-82cdb5d78758",
   "metadata": {},
   "outputs": [
    {
     "data": {
      "text/plain": [
       "False"
      ]
     },
     "execution_count": 3,
     "metadata": {},
     "output_type": "execute_result"
    }
   ],
   "source": [
    "0.1 +0.2 == 0.3"
   ]
  },
  {
   "cell_type": "code",
   "execution_count": 4,
   "id": "43104299-a1a1-44c9-9aee-cde7417e5afd",
   "metadata": {},
   "outputs": [
    {
     "name": "stdout",
     "output_type": "stream",
     "text": [
      "thisisatestthisisatestthisisatestthisisatest\n"
     ]
    }
   ],
   "source": [
    "print('thisisatest' * 4)"
   ]
  },
  {
   "cell_type": "code",
   "execution_count": 5,
   "id": "47f9c60c-8166-4860-ac85-ef1991f7e60a",
   "metadata": {},
   "outputs": [
    {
     "name": "stdout",
     "output_type": "stream",
     "text": [
      "'this is a test on string interactions for repr or str'\n",
      "this is a test on string interactions for repr or str\n"
     ]
    }
   ],
   "source": [
    "my_test = 'this is a test on string interactions for repr or str'\n",
    "\n",
    "print(repr(my_test))\n",
    "print(str(my_test))"
   ]
  },
  {
   "cell_type": "code",
   "execution_count": 6,
   "id": "37aa6a10-a06d-413b-8210-bf9c52c5b1b9",
   "metadata": {},
   "outputs": [
    {
     "name": "stdout",
     "output_type": "stream",
     "text": [
      "13\n"
     ]
    }
   ],
   "source": [
    "print(len('launch school'))"
   ]
  },
  {
   "cell_type": "code",
   "execution_count": 7,
   "id": "16b3a411-7c2f-4ed4-8c06-2e871325f6b4",
   "metadata": {},
   "outputs": [
    {
     "name": "stdout",
     "output_type": "stream",
     "text": [
      "6\n"
     ]
    }
   ],
   "source": [
    "print(len({5, 6, 2, 4, 'test', False}))"
   ]
  },
  {
   "cell_type": "code",
   "execution_count": 8,
   "id": "7893fb20-2221-409e-ac86-2912ed294771",
   "metadata": {},
   "outputs": [
    {
     "name": "stdout",
     "output_type": "stream",
     "text": [
      "i\n"
     ]
    }
   ],
   "source": [
    "print(my_test[5])"
   ]
  },
  {
   "cell_type": "code",
   "execution_count": 12,
   "id": "65f196c0-fb47-46c9-b5f6-8f0c6728c717",
   "metadata": {},
   "outputs": [
    {
     "name": "stdout",
     "output_type": "stream",
     "text": [
      "[5, 43, 2, 3, 2, 32, 65, 2340]\n"
     ]
    }
   ],
   "source": [
    "listtst = [5, 43, 2, 3, 2, 32, 65, 2340]\n",
    "print(listtst)"
   ]
  },
  {
   "cell_type": "code",
   "execution_count": 11,
   "id": "017305b7-3577-410c-a161-2b32012e82cd",
   "metadata": {},
   "outputs": [
    {
     "name": "stdout",
     "output_type": "stream",
     "text": [
      "[5, 43, 2, 23, 2, 32, 65, 2340]\n"
     ]
    }
   ],
   "source": [
    "listtst[3] = 23\n",
    "print(listtst)"
   ]
  },
  {
   "cell_type": "code",
   "execution_count": 14,
   "id": "c9bfb7c1-c438-43e2-baed-ff40ab151fa0",
   "metadata": {},
   "outputs": [
    {
     "name": "stdout",
     "output_type": "stream",
     "text": [
      "{'dog': 'barks', 'cat': 'meows', 'pig': 'oink'}\n"
     ]
    }
   ],
   "source": [
    "my_dict = {\n",
    "    'dog': 'barks',\n",
    "    'cat': 'meows',\n",
    "    'pig': 'oink',\n",
    "}\n",
    "print(my_dict)"
   ]
  },
  {
   "cell_type": "code",
   "execution_count": 15,
   "id": "f3ff5173-b7da-4742-922e-abedf3b44e91",
   "metadata": {},
   "outputs": [
    {
     "name": "stdout",
     "output_type": "stream",
     "text": [
      "{'dog': 'barks', 'cat': 'meows', 'pig': 'oink', 'fish': 'glub glub'}\n"
     ]
    }
   ],
   "source": [
    "my_dict['fish'] = 'glub glub'\n",
    "print(my_dict)"
   ]
  },
  {
   "cell_type": "code",
   "execution_count": 16,
   "id": "d57a04d2-204b-4481-bb7a-c6aacdb4dab9",
   "metadata": {},
   "outputs": [],
   "source": [
    "class Person:\n",
    "    def __init__(self, name):\n",
    "        self.name = name\n",
    "\n",
    "    def greet(self):\n",
    "        return f\"Hello, {self.name}!\""
   ]
  },
  {
   "cell_type": "code",
   "execution_count": 17,
   "id": "c6777586-92d3-4770-bbab-fc710be27b2f",
   "metadata": {},
   "outputs": [
    {
     "ename": "NameError",
     "evalue": "name 'greet' is not defined",
     "output_type": "error",
     "traceback": [
      "\u001b[0;31m---------------------------------------------------------------------------\u001b[0m",
      "\u001b[0;31mNameError\u001b[0m                                 Traceback (most recent call last)",
      "Cell \u001b[0;32mIn[17], line 1\u001b[0m\n\u001b[0;32m----> 1\u001b[0m \u001b[43mgreet\u001b[49m(hey)\n",
      "\u001b[0;31mNameError\u001b[0m: name 'greet' is not defined"
     ]
    }
   ],
   "source": [
    "greet(hey)"
   ]
  },
  {
   "cell_type": "code",
   "execution_count": 18,
   "id": "d32eb60f-aeae-4caf-8eb3-5f507c7bd55b",
   "metadata": {},
   "outputs": [
    {
     "name": "stdout",
     "output_type": "stream",
     "text": [
      "Woof!\n",
      "Buddy is 3 years old.\n"
     ]
    }
   ],
   "source": [
    "# Define the class\n",
    "class Dog:\n",
    "    def __init__(self, name, age):\n",
    "        self.name = name     # Attribute to store the dog's name\n",
    "        self.age = age       # Attribute to store the dog's age\n",
    "\n",
    "    def bark(self):\n",
    "        return \"Woof!\"\n",
    "\n",
    "    def get_info(self):\n",
    "        return f\"{self.name} is {self.age} years old.\"\n",
    "\n",
    "# Create an instance of the Dog class\n",
    "my_dog = Dog(\"Buddy\", 3)\n",
    "\n",
    "# Interact with the instance\n",
    "print(my_dog.bark())           # Output: Woof!\n",
    "print(my_dog.get_info())       # Output: Buddy is 3 years old."
   ]
  },
  {
   "cell_type": "code",
   "execution_count": 20,
   "id": "81f6b868-6333-4194-b442-d1f6cdd629b3",
   "metadata": {},
   "outputs": [
    {
     "name": "stdout",
     "output_type": "stream",
     "text": [
      "loyd is 6 years old.\n"
     ]
    }
   ],
   "source": [
    "ur_dog = Dog('loyd', 6)\n",
    "print(ur_dog.get_info())"
   ]
  },
  {
   "cell_type": "code",
   "execution_count": 21,
   "id": "4ca1ee70-d299-4116-a525-a551ca8cc746",
   "metadata": {},
   "outputs": [],
   "source": [
    "fn = 'Jonathan'"
   ]
  },
  {
   "cell_type": "code",
   "execution_count": 22,
   "id": "c3b91e14-750d-42da-9d08-cafd926b3b17",
   "metadata": {},
   "outputs": [
    {
     "name": "stdout",
     "output_type": "stream",
     "text": [
      "Jonathan Felix\n"
     ]
    }
   ],
   "source": [
    "ln = 'Felix'\n",
    "print(fn + ' ' + ln)"
   ]
  },
  {
   "cell_type": "code",
   "execution_count": 45,
   "id": "85112019-760d-4a39-b32f-63c23cafe1d2",
   "metadata": {},
   "outputs": [
    {
     "name": "stdout",
     "output_type": "stream",
     "text": [
      "The One place is 5\n",
      "The Tens place is 4\n",
      "The Hundreds place is 3\n"
     ]
    }
   ],
   "source": [
    "num = 345\n",
    "numlen = len(str(num))\n",
    "numlist= [int(numlist) for numlist in str(num)[::-1]]\n",
    "pos = [\n",
    "    'One',\n",
    "    'Tens',\n",
    "    'Hundreds',\n",
    "    'Thousands',\n",
    "    'Ten-thousands',\n",
    "    'Hundred-thousands',\n",
    "    'Millions'\n",
    "]\n",
    "listnum = 0\n",
    "\n",
    "while listnum != numlen:\n",
    "    print('The ' + pos[listnum] + ' place is ' + str(numlist[listnum]))\n",
    "    listnum += 1"
   ]
  },
  {
   "cell_type": "code",
   "execution_count": 46,
   "id": "2aaf82b9-c5e2-4c91-9d8f-1d39c0040a98",
   "metadata": {},
   "outputs": [
    {
     "data": {
      "text/plain": [
       "4936"
      ]
     },
     "execution_count": 46,
     "metadata": {},
     "output_type": "execute_result"
    }
   ],
   "source": [
    "4936"
   ]
  },
  {
   "cell_type": "code",
   "execution_count": 48,
   "id": "79eda9f0-3e73-4771-acec-329733a665f8",
   "metadata": {},
   "outputs": [
    {
     "name": "stdout",
     "output_type": "stream",
     "text": [
      "6\n",
      "3\n",
      "9\n",
      "4\n"
     ]
    }
   ],
   "source": [
    "num=4936\n",
    "numlist= [int(numlist) for numlist in str(num)]\n",
    "d1 = numlist[3]\n",
    "d2 = numlist[2]\n",
    "d3 = numlist[1]\n",
    "d4 = numlist[0]\n",
    "\n",
    "print(d1)\n",
    "print(d2)\n",
    "print(d3)\n",
    "print(d4)"
   ]
  },
  {
   "cell_type": "code",
   "execution_count": 50,
   "id": "9e382b67-37ba-4914-8949-f26aa4372a0d",
   "metadata": {},
   "outputs": [
    {
     "name": "stdout",
     "output_type": "stream",
     "text": [
      "[4, 9, 3, 6]\n"
     ]
    }
   ],
   "source": [
    "def extract_digits(number):\n",
    "    digits = []\n",
    "    \n",
    "    while number > 0:\n",
    "        digits.append(number % 10)  \n",
    "        number = number // 10 \n",
    "    return digits[::-1]      \n",
    "\n",
    "# Example usage\n",
    "number = 4936\n",
    "digits = extract_digits(number)\n",
    "print(digits)"
   ]
  },
  {
   "cell_type": "code",
   "execution_count": 51,
   "id": "b10a3d28-6ea6-4f4b-8ec7-f8df250a0ff5",
   "metadata": {},
   "outputs": [
    {
     "name": "stdout",
     "output_type": "stream",
     "text": [
      "15\n"
     ]
    }
   ],
   "source": [
    "print(int('5') + int('10'))"
   ]
  },
  {
   "cell_type": "code",
   "execution_count": 55,
   "id": "f7fd1883-a620-4f75-967a-a1e8c83ce26a",
   "metadata": {},
   "outputs": [
    {
     "data": {
      "text/plain": [
       "3"
      ]
     },
     "execution_count": 55,
     "metadata": {},
     "output_type": "execute_result"
    }
   ],
   "source": [
    "int(3)"
   ]
  },
  {
   "cell_type": "code",
   "execution_count": null,
   "id": "d20a5938-1714-4160-9eca-2711b776d18a",
   "metadata": {},
   "outputs": [],
   "source": []
  }
 ],
 "metadata": {
  "kernelspec": {
   "display_name": "Python 3 (ipykernel)",
   "language": "python",
   "name": "python3"
  },
  "language_info": {
   "codemirror_mode": {
    "name": "ipython",
    "version": 3
   },
   "file_extension": ".py",
   "mimetype": "text/x-python",
   "name": "python",
   "nbconvert_exporter": "python",
   "pygments_lexer": "ipython3",
   "version": "3.12.6"
  }
 },
 "nbformat": 4,
 "nbformat_minor": 5
}
