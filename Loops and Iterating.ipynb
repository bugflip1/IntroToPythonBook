{
 "cells": [
  {
   "cell_type": "code",
   "execution_count": null,
   "id": "32e8adb5-0d81-4560-a0b8-cc6f73912c67",
   "metadata": {},
   "outputs": [],
   "source": [
    "counter = 1\n",
    "while counter <= 10:\n",
    "    print(counter)\n",
    "    counter += 1\n"
   ]
  },
  {
   "cell_type": "code",
   "execution_count": null,
   "id": "2d4f4371-29e6-4c47-a187-9e9cf6df5e41",
   "metadata": {},
   "outputs": [],
   "source": [
    "names = ['Chris', 'Max', 'Karis', 'Victor']\n",
    "upper_names = []\n",
    "index = 0\n",
    "\n",
    "while index < len(names):\n",
    "    upper_name = names[index].upper()\n",
    "    upper_names.append(upper_name)\n",
    "    index += 1\n",
    "\n",
    "print(upper_names);"
   ]
  },
  {
   "cell_type": "code",
   "execution_count": null,
   "id": "c7042cdb-c601-4ef2-b8ba-a199eb43253f",
   "metadata": {},
   "outputs": [],
   "source": [
    "upper_names = []\n",
    "for name in names:\n",
    "    upper_names.append(name.upper())\n",
    "\n",
    "print(upper_names)"
   ]
  },
  {
   "cell_type": "code",
   "execution_count": null,
   "id": "9c450433-a5e0-4c33-bcbe-6579e2aa25cf",
   "metadata": {},
   "outputs": [],
   "source": [
    "upper_names = [name.upper() for name in names]\n",
    "print(upper_names)"
   ]
  },
  {
   "cell_type": "code",
   "execution_count": null,
   "id": "1aacb808-1419-410f-88c5-013f504b3f18",
   "metadata": {},
   "outputs": [],
   "source": [
    "for char in 'Launch School'.split():\n",
    "    print(char)"
   ]
  },
  {
   "cell_type": "code",
   "execution_count": null,
   "id": "c46a616b-38eb-43ce-9dab-091dca89a2b8",
   "metadata": {},
   "outputs": [],
   "source": [
    "my_set = {1000, 2000, 3000, 4000, 5000}\n",
    "for member in my_set:\n",
    "    print(member)"
   ]
  },
  {
   "cell_type": "code",
   "execution_count": null,
   "id": "83d2547a-bf79-45a9-a117-21bed95c8aef",
   "metadata": {},
   "outputs": [],
   "source": [
    "my_dict = {'a': 1, 'b': 2, 'c': 3}\n",
    "for key, value in my_dict.items():\n",
    "    print(f'{key} = {value}')"
   ]
  },
  {
   "cell_type": "code",
   "execution_count": null,
   "id": "c8b28e33-63a8-470a-9345-cd4942ed3bfe",
   "metadata": {},
   "outputs": [],
   "source": [
    "suits = ['Clubs', 'Diamonds', 'Hearts', 'Spades']\n",
    "ranks = [\n",
    "    '2', '3', '4', '5', '6', '7', '8', '9', '10',\n",
    "    'Jack', 'Queen', 'King', 'Ace',\n",
    "]\n",
    "\n",
    "deck = []\n",
    "for suit in suits:\n",
    "    for rank in ranks:\n",
    "        dict_append = {suit: rank}\n",
    "        deck.append(dict_append)\n",
    "\n",
    "print(deck)\n",
    "deck[51]\n"
   ]
  },
  {
   "cell_type": "code",
   "execution_count": null,
   "id": "76822264-621f-4d2d-9dc9-2b620a6f8e13",
   "metadata": {},
   "outputs": [],
   "source": [
    "test_dict = {'test': [1, 2, 3, 4, 5, 6, 7, 8, 9, 10]}"
   ]
  },
  {
   "cell_type": "code",
   "execution_count": null,
   "id": "b6ad5ca8-8d42-49f2-b3db-241b766cf526",
   "metadata": {},
   "outputs": [],
   "source": [
    "test_dict['test']"
   ]
  },
  {
   "cell_type": "code",
   "execution_count": null,
   "id": "9e6deb8b-fdfb-45da-b586-030018e1b0d1",
   "metadata": {},
   "outputs": [],
   "source": [
    "numbers = [3, 1, 5, 9, 2, 6, 4, 7]\n",
    "found_item = -1\n",
    "index = 0\n",
    "\n",
    "while index < len(numbers):\n",
    "    if numbers[index] == 5:\n",
    "        found_item = index\n",
    "        break    \n",
    "\n",
    "    index += 1\n",
    "\n",
    "print(found_item)"
   ]
  },
  {
   "cell_type": "code",
   "execution_count": null,
   "id": "3db3a9db-2b27-4e5e-be09-3b6ad4a6a513",
   "metadata": {},
   "outputs": [],
   "source": [
    "comp_list = [1,4,5,3,2,4,5,4,2,3,4,3]\n",
    "[print(foo) for foo in comp_list]"
   ]
  },
  {
   "cell_type": "code",
   "execution_count": null,
   "id": "2cb904fd-ba84-4298-995a-a3f69699e7f3",
   "metadata": {},
   "outputs": [],
   "source": [
    "squares = [ number * number for number in range(5) ]\n",
    "print(squares)"
   ]
  },
  {
   "cell_type": "code",
   "execution_count": null,
   "id": "d8ca01a7-e553-469a-9eff-94800ab201a4",
   "metadata": {},
   "outputs": [],
   "source": [
    "cats_colors = {\n",
    "    'Tess':   'brown',\n",
    "    'Leo':    'orange',\n",
    "    'Fluffy': 'gray',\n",
    "    'Ben':    'black',\n",
    "    'Kat':    'orange'\n",
    "}\n",
    "\n",
    "names = [name.upper()\n",
    "         for name in cats_colors\n",
    "         if cats_colors[name] == 'orange'\n",
    "         if name[0] == 'L' ]\n",
    "\n",
    "print(names)"
   ]
  },
  {
   "cell_type": "code",
   "execution_count": null,
   "id": "d5c4295c-f0bf-40ab-999c-460c9a7c3f45",
   "metadata": {},
   "outputs": [],
   "source": [
    "deck = [f'{rank} of {suit}'\n",
    "        for suit in suits\n",
    "        for rank in ranks]\n",
    "\n",
    "print(deck)"
   ]
  },
  {
   "cell_type": "code",
   "execution_count": null,
   "id": "b27c3fd5-3de8-4cbb-bb30-111a761131fa",
   "metadata": {},
   "outputs": [],
   "source": [
    "squares = { f'{number}-squared': number * number\n",
    "           for number in range(1, 6) }\n",
    "\n",
    "print(squares)"
   ]
  },
  {
   "cell_type": "code",
   "execution_count": null,
   "id": "9ab11dea-fdfa-4538-b3aa-eee376feb7fa",
   "metadata": {},
   "outputs": [],
   "source": [
    "square_set = { number * number for number in range(1, 6) }\n",
    "\n",
    "print(square_set)"
   ]
  },
  {
   "cell_type": "code",
   "execution_count": null,
   "id": "d08ad980-28dd-4229-8684-c582ad229789",
   "metadata": {},
   "outputs": [],
   "source": [
    "my_list = [6, 3, 0, 11, 20, 4, 17]\n",
    "list_index = 0\n",
    "\n",
    "while list_index != len(my_list):\n",
    "    print(my_list[list_index])\n",
    "    list_index += 1"
   ]
  },
  {
   "cell_type": "code",
   "execution_count": null,
   "id": "3b4b513b-7dd6-41cc-a796-ba2670c3bf07",
   "metadata": {},
   "outputs": [],
   "source": [
    "for list_element in my_list:\n",
    "    print(list_element)"
   ]
  },
  {
   "cell_type": "code",
   "execution_count": null,
   "id": "d7ffd4c1-6aa0-4e72-95b0-06870f32b86f",
   "metadata": {},
   "outputs": [],
   "source": [
    "list_index = 0\n",
    "while list_index != len(my_list):\n",
    "    number = my_list[list_index]\n",
    "    if number % 2 == 0:\n",
    "        print(number)\n",
    "    list_index += 1"
   ]
  },
  {
   "cell_type": "code",
   "execution_count": null,
   "id": "dfc474d0-b262-43c5-8750-201f9b8e756d",
   "metadata": {},
   "outputs": [],
   "source": [
    "for number in my_list:\n",
    "    if number % 2 != 0:\n",
    "        print(number)"
   ]
  },
  {
   "cell_type": "code",
   "execution_count": null,
   "id": "adab5945-f469-4b65-8803-348af146e94a",
   "metadata": {},
   "outputs": [],
   "source": [
    "my_list = [\n",
    "    [1, 3, 6, 11],\n",
    "    [4, 2, 4],\n",
    "    [9, 17, 16, 0],\n",
    "]\n",
    "\n",
    "final = [ print(nestedelement)\n",
    "          for nestedlist in my_list\n",
    "          for nestedelement in nestedlist\n",
    "          if nestedelement % 2 == 0 ]"
   ]
  },
  {
   "cell_type": "code",
   "execution_count": null,
   "id": "8c6383f2-85bb-4f13-9389-9f16e7336423",
   "metadata": {},
   "outputs": [],
   "source": [
    "my_list = [\n",
    "    1, 3, 6, 11,\n",
    "    4, 2, 4, 9,\n",
    "    17, 16, 0,\n",
    "]\n",
    "\n",
    "text = ''\n",
    "\n",
    "final = []\n",
    "\n",
    "for element in my_list:\n",
    "    if element % 2 == 0:\n",
    "        text = 'even'\n",
    "    else:\n",
    "        text = 'odd'\n",
    "    final.append(text)\n",
    "\n",
    "print (final)\n",
    "        \n",
    "    "
   ]
  },
  {
   "cell_type": "code",
   "execution_count": null,
   "id": "a9d855ee-6a81-449c-a88b-969eca085318",
   "metadata": {},
   "outputs": [],
   "source": [
    "my_tuple = (1, 'a', '1', 3, [7], 3.1415,\n",
    "            -4, None, {1, 2, 3}, False)\n",
    "\n",
    "\n",
    "def find_integers(list_to_search):\n",
    "    final = []\n",
    "    for element in list_to_search:\n",
    "        if type(element) is int:\n",
    "            final.append(element)\n",
    "    return final\n",
    "\n",
    "integers = find_integers(my_tuple)\n",
    "print(integers)                    # [1, 3, -4]"
   ]
  },
  {
   "cell_type": "code",
   "execution_count": null,
   "id": "603bfff2-bbc9-4a2c-a516-273a000b0f53",
   "metadata": {},
   "outputs": [],
   "source": [
    "my_set = {\n",
    "    'Fluffy',\n",
    "    'Butterscotch',\n",
    "    'Pudding',\n",
    "    'Cheddar',\n",
    "    'Cocoa',\n",
    "}\n",
    "\n",
    "final = { element:len(element)\n",
    "          for element in my_set\n",
    "          if len(element) % 2 != 0 }\n",
    "\n",
    "print(final)\n",
    "         "
   ]
  },
  {
   "cell_type": "code",
   "execution_count": null,
   "id": "acfd960b-c357-4607-bc91-9f1de543058c",
   "metadata": {},
   "outputs": [],
   "source": [
    "def factorial(num):\n",
    "    final = 1\n",
    "    num_to_zero = list(range(num, 0, -1))\n",
    "    for element in num_to_zero:\n",
    "        final *= element\n",
    "    return final"
   ]
  },
  {
   "cell_type": "code",
   "execution_count": null,
   "id": "703b6ac3-f803-4466-98ad-6d6f8bbb2c2e",
   "metadata": {},
   "outputs": [],
   "source": []
  },
  {
   "cell_type": "code",
   "execution_count": null,
   "id": "78392057-6683-4598-98bf-04568aae7ddd",
   "metadata": {},
   "outputs": [],
   "source": [
    "print(factorial(8))"
   ]
  },
  {
   "cell_type": "code",
   "execution_count": null,
   "id": "cf3c6233-e2c6-4a25-afd1-1baf22f10e9f",
   "metadata": {},
   "outputs": [],
   "source": [
    "import random\n",
    "highest = 10\n",
    "number = 0\n",
    "\n",
    "while number != highest:\n",
    "    number = random.randrange(highest + 1)\n",
    "    print(number)"
   ]
  },
  {
   "cell_type": "code",
   "execution_count": null,
   "id": "683e4d6c-bd86-4afb-b166-fad86be4867f",
   "metadata": {},
   "outputs": [],
   "source": [
    "while True:\n",
    "    number = random.randrange(highest + 1)\n",
    "    print(number)\n",
    "    if number == highest:\n",
    "        break"
   ]
  },
  {
   "cell_type": "code",
   "execution_count": 2,
   "id": "e2e4ddba-78dd-4655-b41a-945466c68c39",
   "metadata": {},
   "outputs": [
    {
     "name": "stdout",
     "output_type": "stream",
     "text": [
      "test\n"
     ]
    }
   ],
   "source": [
    "print('test')"
   ]
  },
  {
   "cell_type": "code",
   "execution_count": 16,
   "id": "2ed54f94-55bf-43b0-8adc-2c62702e6882",
   "metadata": {},
   "outputs": [
    {
     "name": "stdout",
     "output_type": "stream",
     "text": [
      "6\n",
      "4\n",
      "2\n",
      "4\n",
      "16\n",
      "0\n"
     ]
    }
   ],
   "source": [
    "my_list = [\n",
    "  [1, 3, 6, 11],\n",
    "  [4, 2, 4],\n",
    "  [9, 17, 16, 0],\n",
    "]\n",
    "\n",
    "outer_element = 0\n",
    "inner_element = 0\n",
    "while outer_element != len(my_list):\n",
    "    inner_element = 0\n",
    "    while inner_element != len(my_list[outer_element]):\n",
    "        if my_list[outer_element][inner_element] % 2 == 0:\n",
    "            print(my_list[outer_element][inner_element])\n",
    "        inner_element += 1\n",
    "    outer_element += 1"
   ]
  },
  {
   "cell_type": "code",
   "execution_count": null,
   "id": "86af27e1-57b5-41f0-9c68-cd65bf6fae9c",
   "metadata": {},
   "outputs": [],
   "source": [
    "my_list = [\n",
    "  [1, 3, 6, 11],\n",
    "  [4, 2, 4],\n",
    "  [9, 17, 16, 0],\n",
    "]\n",
    "\n",
    "outer_element = 0\n",
    "inner_element = 0\n",
    "\n",
    "while outer_element != len(my_list):\n",
    "    while inner_element != len(my_list[outer_element]):\n",
    "        if my_list[outer_element][inner_element] % 2 == 0:\n",
    "            print(my_list[outer_element][inner_element])\n",
    "    inner_element = 0"
   ]
  },
  {
   "cell_type": "code",
   "execution_count": 10,
   "id": "2f841ec6-db14-4ed1-99ee-73e30023194e",
   "metadata": {},
   "outputs": [
    {
     "name": "stdout",
     "output_type": "stream",
     "text": [
      "tes\n"
     ]
    }
   ],
   "source": [
    "print('tes')"
   ]
  },
  {
   "cell_type": "code",
   "execution_count": 9,
   "id": "a41c611e-2520-4c3d-a315-3b577d3bac61",
   "metadata": {},
   "outputs": [
    {
     "data": {
      "text/plain": [
       "3"
      ]
     },
     "execution_count": 9,
     "metadata": {},
     "output_type": "execute_result"
    }
   ],
   "source": [
    "my_list = [\n",
    "  [1, 3, 6, 11],\n",
    "  [4, 2, 4],\n",
    "  [9, 17, 16, 0],\n",
    "]\n",
    "\n",
    "len(my_list)\n"
   ]
  },
  {
   "cell_type": "code",
   "execution_count": null,
   "id": "320da03d-3c5a-4a37-a9ce-3b0aa480c753",
   "metadata": {},
   "outputs": [],
   "source": []
  }
 ],
 "metadata": {
  "kernelspec": {
   "display_name": "Python 3 (ipykernel)",
   "language": "python",
   "name": "python3"
  },
  "language_info": {
   "codemirror_mode": {
    "name": "ipython",
    "version": 3
   },
   "file_extension": ".py",
   "mimetype": "text/x-python",
   "name": "python",
   "nbconvert_exporter": "python",
   "pygments_lexer": "ipython3",
   "version": "3.12.6"
  }
 },
 "nbformat": 4,
 "nbformat_minor": 5
}
