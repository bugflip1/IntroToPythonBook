{
 "cells": [
  {
   "cell_type": "code",
   "execution_count": 1,
   "id": "dcbeeb6b-a066-45a9-863c-6b1f4fddc661",
   "metadata": {},
   "outputs": [
    {
     "name": "stdout",
     "output_type": "stream",
     "text": [
      "6.082762530298219\n"
     ]
    }
   ],
   "source": [
    "from math import sqrt\n",
    "\n",
    "num = 37\n",
    "\n",
    "print(sqrt(37))\n"
   ]
  },
  {
   "cell_type": "code",
   "execution_count": 3,
   "id": "2c36e158-6ac9-4513-8190-7da0cc59ec8a",
   "metadata": {},
   "outputs": [
    {
     "name": "stdout",
     "output_type": "stream",
     "text": [
      "25\n",
      "169\n"
     ]
    }
   ],
   "source": [
    "def sum_of_squares(num1, num2):\n",
    "    def square(num):\n",
    "        return num * num\n",
    "    return square(num1) + square(num2)\n",
    "\n",
    "print(sum_of_squares(3, 4))   # 25 (3 * 3 + 4 * 4)\n",
    "print(sum_of_squares(5, 12))  # 169 (5 * 5 + 12 * 12)"
   ]
  },
  {
   "cell_type": "code",
   "execution_count": 5,
   "id": "ac406f18-5c82-4b9e-a119-9ad94851b2bd",
   "metadata": {},
   "outputs": [
    {
     "ename": "NameError",
     "evalue": "name 'counter' is not defined",
     "output_type": "error",
     "traceback": [
      "\u001b[0;31m---------------------------------------------------------------------------\u001b[0m",
      "\u001b[0;31mNameError\u001b[0m                                 Traceback (most recent call last)",
      "Cell \u001b[0;32mIn[5], line 5\u001b[0m\n\u001b[1;32m      2\u001b[0m     \u001b[38;5;28;01mglobal\u001b[39;00m counter\n\u001b[1;32m      3\u001b[0m     counter \u001b[38;5;241m+\u001b[39m\u001b[38;5;241m=\u001b[39m \u001b[38;5;241m1\u001b[39m\n\u001b[0;32m----> 5\u001b[0m \u001b[38;5;28mprint\u001b[39m(\u001b[43mcounter\u001b[49m)                \u001b[38;5;66;03m# 0\u001b[39;00m\n\u001b[1;32m      7\u001b[0m increment_counter()\n\u001b[1;32m      8\u001b[0m \u001b[38;5;28mprint\u001b[39m(counter)                \u001b[38;5;66;03m# 1\u001b[39;00m\n",
      "\u001b[0;31mNameError\u001b[0m: name 'counter' is not defined"
     ]
    }
   ],
   "source": [
    "def increment_counter():\n",
    "    global counter\n",
    "    counter += 1\n",
    "\n",
    "print(counter)                # 0\n",
    "\n",
    "increment_counter()\n",
    "print(counter)                # 1\n",
    "\n",
    "increment_counter()\n",
    "print(counter)                # 2\n",
    "\n",
    "counter = 100\n",
    "increment_counter()\n",
    "print(counter)                # 101"
   ]
  },
  {
   "cell_type": "code",
   "execution_count": null,
   "id": "e3fa5a98-ee67-48d3-98b3-210490cfd2be",
   "metadata": {},
   "outputs": [],
   "source": []
  }
 ],
 "metadata": {
  "kernelspec": {
   "display_name": "Python 3 (ipykernel)",
   "language": "python",
   "name": "python3"
  },
  "language_info": {
   "codemirror_mode": {
    "name": "ipython",
    "version": 3
   },
   "file_extension": ".py",
   "mimetype": "text/x-python",
   "name": "python",
   "nbconvert_exporter": "python",
   "pygments_lexer": "ipython3",
   "version": "3.12.6"
  }
 },
 "nbformat": 4,
 "nbformat_minor": 5
}
