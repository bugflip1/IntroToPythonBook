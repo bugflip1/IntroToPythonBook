{
 "cells": [
  {
   "cell_type": "code",
   "execution_count": 14,
   "id": "826ead2c-9d45-4b20-99ee-c9337e65dc6b",
   "metadata": {},
   "outputs": [
    {
     "name": "stdout",
     "output_type": "stream",
     "text": [
      "4392422592\n",
      "4392422592\n",
      "4392382784\n",
      "True\n",
      "False\n",
      "True\n"
     ]
    }
   ],
   "source": [
    "a = [1, 2, 3]\n",
    "\n",
    "print(id(a))\n",
    "\n",
    "b = a\n",
    "\n",
    "c = [1, 2, 3]\n",
    "\n",
    "print(id(b))\n",
    "print(id(c))\n",
    "\n",
    "print(a is b)\n",
    "print(a is c)\n",
    "print(a == c)"
   ]
  },
  {
   "cell_type": "code",
   "execution_count": 16,
   "id": "fedf8528-eec8-446d-a15c-46ba863dde19",
   "metadata": {},
   "outputs": [
    {
     "name": "stdout",
     "output_type": "stream",
     "text": [
      "4392213616\n"
     ]
    }
   ],
   "source": []
  },
  {
   "cell_type": "code",
   "execution_count": 17,
   "id": "adde4fbe-5c77-4ea6-b32e-9385ca1db4bb",
   "metadata": {},
   "outputs": [
    {
     "name": "stdout",
     "output_type": "stream",
     "text": [
      "False\n",
      "True\n",
      "[[1, 2], 3, 4]\n",
      "True\n",
      "[1, 22]\n"
     ]
    }
   ],
   "source": [
    "import copy\n",
    "\n",
    "orig = [[1, 2], 3, 4]\n",
    "dup = copy.copy(orig)\n",
    "\n",
    "print(orig is dup)           # False\n",
    "print(orig == dup)           # True\n",
    "orig[2] = 44\n",
    "print(dup)                   # [[1, 2], 3, 4]\n",
    "\n",
    "print(orig[0] is dup[0])     # True\n",
    "orig[0][1] = 22\n",
    "print(dup[0])                # [1, 22]"
   ]
  },
  {
   "cell_type": "code",
   "execution_count": 21,
   "id": "829e238d-c5b1-4e00-816b-d5a3db46abb4",
   "metadata": {},
   "outputs": [
    {
     "name": "stdout",
     "output_type": "stream",
     "text": [
      "False\n",
      "True\n",
      "True\n",
      "True\n",
      "True\n",
      "True\n",
      "True\n"
     ]
    }
   ],
   "source": [
    "# You may modify this line\n",
    "\n",
    "dict1 = {\n",
    "    'a': [[7, 1], ['aa', 'aaa']],\n",
    "    'b': ([3, 2], ['bb', 'bbb']),\n",
    "}\n",
    "\n",
    "dict2 = dict(dict1)\n",
    "\n",
    "# All of these should print False\n",
    "print(dict1         is dict2)\n",
    "print(dict1['a']    is dict2['a'])\n",
    "print(dict1['a'][0] is dict2['a'][0])\n",
    "print(dict1['a'][1] is dict2['a'][1])\n",
    "print(dict1['b']    is dict2['b'])\n",
    "print(dict1['b'][0] is dict2['b'][0])\n",
    "print(dict1['b'][1] is dict2['b'][1])"
   ]
  },
  {
   "cell_type": "code",
   "execution_count": null,
   "id": "064760de-029e-4e05-bf42-32b231aaa265",
   "metadata": {},
   "outputs": [],
   "source": []
  }
 ],
 "metadata": {
  "kernelspec": {
   "display_name": "Python 3 (ipykernel)",
   "language": "python",
   "name": "python3"
  },
  "language_info": {
   "codemirror_mode": {
    "name": "ipython",
    "version": 3
   },
   "file_extension": ".py",
   "mimetype": "text/x-python",
   "name": "python",
   "nbconvert_exporter": "python",
   "pygments_lexer": "ipython3",
   "version": "3.12.6"
  }
 },
 "nbformat": 4,
 "nbformat_minor": 5
}
