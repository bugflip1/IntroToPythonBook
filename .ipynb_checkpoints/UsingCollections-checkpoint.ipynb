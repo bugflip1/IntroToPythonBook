{
 "cells": [
  {
   "cell_type": "code",
   "execution_count": 7,
   "id": "59aaeb12-0e0d-44a2-bb26-a0c030f04a8d",
   "metadata": {},
   "outputs": [
    {
     "name": "stdout",
     "output_type": "stream",
     "text": [
      "3\n"
     ]
    }
   ],
   "source": [
    "seq = ['a', 'b', 'c']\n",
    "print(len(seq))"
   ]
  },
  {
   "cell_type": "code",
   "execution_count": 3,
   "id": "f019a4da-3a03-4d52-a3de-b81c9e3565d3",
   "metadata": {},
   "outputs": [
    {
     "name": "stdout",
     "output_type": "stream",
     "text": [
      "c\n"
     ]
    }
   ],
   "source": [
    "last_index = len(seq) - 1\n",
    "print(seq[last_index])"
   ]
  },
  {
   "cell_type": "code",
   "execution_count": 4,
   "id": "7d80bda6-f489-45ec-ba94-b90a968b80a1",
   "metadata": {},
   "outputs": [
    {
     "name": "stdout",
     "output_type": "stream",
     "text": [
      "c\n"
     ]
    }
   ],
   "source": [
    "print(seq[-1])"
   ]
  },
  {
   "cell_type": "code",
   "execution_count": 9,
   "id": "6c3878d9-d381-4875-a447-6a47b80342e6",
   "metadata": {},
   "outputs": [
    {
     "name": "stdout",
     "output_type": "stream",
     "text": [
      "['a', 'B', 'c']\n"
     ]
    }
   ],
   "source": [
    "seq[1] ='B'\n",
    "print(seq)"
   ]
  },
  {
   "cell_type": "code",
   "execution_count": 14,
   "id": "aa32d6c8-a5d3-4f8b-9c5d-1e2c8b5dca94",
   "metadata": {},
   "outputs": [],
   "source": [
    "phrase = 'abcdefg'"
   ]
  },
  {
   "cell_type": "code",
   "execution_count": 15,
   "id": "cbb489dd-0187-4159-8c0e-e0dc435a3d55",
   "metadata": {},
   "outputs": [
    {
     "name": "stdout",
     "output_type": "stream",
     "text": [
      "de\n"
     ]
    }
   ],
   "source": [
    "print(phrase[3:5])"
   ]
  },
  {
   "cell_type": "code",
   "execution_count": 16,
   "id": "7e346d93-cb1c-46e6-81c2-ab93682526c7",
   "metadata": {},
   "outputs": [
    {
     "name": "stdout",
     "output_type": "stream",
     "text": [
      "gfedcba\n"
     ]
    }
   ],
   "source": [
    "print(phrase[::-1])"
   ]
  },
  {
   "cell_type": "code",
   "execution_count": 19,
   "id": "548b0d46-29fe-4e99-a821-a35df6d5c70e",
   "metadata": {},
   "outputs": [
    {
     "name": "stdout",
     "output_type": "stream",
     "text": [
      "[4, 5, 6, 7]\n",
      "[5, 6, 7, 8]\n",
      "[2, 4, 6, 8, 10]\n"
     ]
    }
   ],
   "source": [
    "seq = [ 1, 2, 3, 4, 5, 6, 7, 8, 9, 10]\n",
    "print(seq[3:7])\n",
    "print(seq[-6:-2])\n",
    "print(seq[1::2])"
   ]
  },
  {
   "cell_type": "code",
   "execution_count": 14,
   "id": "d6bcc5f1-1aef-4a81-a0b8-f0e61eb92841",
   "metadata": {},
   "outputs": [
    {
     "data": {
      "text/plain": [
       "False"
      ]
     },
     "execution_count": 14,
     "metadata": {},
     "output_type": "execute_result"
    }
   ],
   "source": [
    "numtest = 'thisisatestgldgdlfjghlk fds ghfdpoghdfo;ghfdghdfsioh gifodhgoshgofdhgo hgdsoghfdgdfgohjdfoghdf fhgofdhgodgh ghfodghfdoghfdogh gfdhgdfogh fdughdfghdfoghrogh3reghoegdfbgieghepgdhjgdf'\n",
    "numtest2 = \"thisisatestgldgdlfjghlk fds ghfdpoghdfo;ghfdghdfsioh gifodhgoshgofdhgo hgdsoghfdgdfgohjdfoghdf fhgofdhgodgh ghfodghfdoghfdogh gfdhgdfogh fdughdfghdfoghrogh3reghoegdfbgieghepgdhjgdf\"\n",
    "numtest is numtest2"
   ]
  },
  {
   "cell_type": "code",
   "execution_count": 19,
   "id": "90ce6a3f-a73a-4d64-b616-1fc5e0746d90",
   "metadata": {},
   "outputs": [
    {
     "name": "stdout",
     "output_type": "stream",
     "text": [
      "True\n",
      "False\n",
      "True\n",
      "False\n",
      "True\n"
     ]
    }
   ],
   "source": [
    "seq = [4, 'abcdef', ( True, False, None)]\n",
    "print(4 in seq)\n",
    "print(4 not in seq)\n",
    "print('abcdef' in seq)\n",
    "print('abcdef' not in seq)\n",
    "print('bcd' in seq[1])"
   ]
  },
  {
   "cell_type": "code",
   "execution_count": 24,
   "id": "3674b4ab-6809-4b73-88ff-7828e235536b",
   "metadata": {},
   "outputs": [
    {
     "data": {
      "text/plain": [
       "56"
      ]
     },
     "execution_count": 24,
     "metadata": {},
     "output_type": "execute_result"
    }
   ],
   "source": [
    "numlist = [4, 5, 6, 6, 7, 3, 3, 1, 8, 3, 5, 5]\n",
    "sum(numlist)"
   ]
  },
  {
   "cell_type": "code",
   "execution_count": 29,
   "id": "1cde1a9b-6751-4bc7-8603-e9f57cf82eee",
   "metadata": {},
   "outputs": [
    {
     "data": {
      "text/plain": [
       "5"
      ]
     },
     "execution_count": 29,
     "metadata": {},
     "output_type": "execute_result"
    }
   ],
   "source": [
    "numlist.index(3)"
   ]
  },
  {
   "cell_type": "code",
   "execution_count": 33,
   "id": "47788b2d-21f3-47e6-a09b-fd9dd6ccac8d",
   "metadata": {},
   "outputs": [
    {
     "name": "stdout",
     "output_type": "stream",
     "text": [
      "[(1, 'Kim', None), (2, 'Leslie', True), (3, 'Bertie', False)]\n",
      "<zip object at 0x111f09a80>\n"
     ]
    },
    {
     "data": {
      "text/plain": [
       "zip"
      ]
     },
     "execution_count": 33,
     "metadata": {},
     "output_type": "execute_result"
    }
   ],
   "source": [
    "iterable1 = [1, 2, 3]\n",
    "iterable2 = ('Kim', 'Leslie', 'Bertie')\n",
    "iterable3 = [None, True, False]\n",
    "\n",
    "zipped_iterables = zip(iterable1, iterable2, iterable3)\n",
    "print(list(zipped_iterables))\n",
    "print(zipped_iterables)\n",
    "type(zipped_iterables)"
   ]
  },
  {
   "cell_type": "raw",
   "id": "cabd283f-6ef7-40b1-9873-569bae2c6f1f",
   "metadata": {},
   "source": []
  },
  {
   "cell_type": "code",
   "execution_count": 40,
   "id": "e26eb188-e702-45de-bc14-2cace0fbeb3f",
   "metadata": {},
   "outputs": [
    {
     "name": "stdout",
     "output_type": "stream",
     "text": [
      "<zip object at 0x111eab840>\n",
      "[(5, 1, 3), (6, 2, 4)]\n"
     ]
    }
   ],
   "source": [
    "result = zip(range(5, 10),\n",
    "             range(1, 3),\n",
    "             range(3, 7))\n",
    "print(result)\n",
    "print(list(result))"
   ]
  },
  {
   "cell_type": "code",
   "execution_count": 56,
   "id": "7661a138-4308-4f80-86d0-f8a9adb8638f",
   "metadata": {},
   "outputs": [
    {
     "name": "stdout",
     "output_type": "stream",
     "text": [
      "dict_keys(['Chris', 'Pete', 'Clare', 'Test'])\n"
     ]
    }
   ],
   "source": [
    "people_phones = {\n",
    "    'Chris': '111-2222',\n",
    "    'Pete': '333-4444',\n",
    "    'Clare': '555-6666',\n",
    "    'Test': '777-8888',\n",
    "}\n",
    "\n",
    "print(people_phones.keys())\n"
   ]
  },
  {
   "cell_type": "code",
   "execution_count": 55,
   "id": "be500e66-7dc0-4143-9d18-ce13ac64b7ef",
   "metadata": {},
   "outputs": [
    {
     "name": "stdout",
     "output_type": "stream",
     "text": [
      "dict_values(['111-2222', '333-4444', '555-6666', '777-8888'])\n"
     ]
    }
   ],
   "source": [
    "print(people_phones.values())"
   ]
  },
  {
   "cell_type": "code",
   "execution_count": 54,
   "id": "4202a946-536b-4b73-bd1e-172b3a835de6",
   "metadata": {},
   "outputs": [
    {
     "name": "stdout",
     "output_type": "stream",
     "text": [
      "dict_items([('Chris', '111-2222'), ('Pete', '333-4444'), ('Clare', '555-6666'), ('Test', '777-8888')])\n"
     ]
    }
   ],
   "source": [
    "from pprint import pprint\n",
    "\n",
    "print(people_phones.items())"
   ]
  },
  {
   "cell_type": "code",
   "execution_count": 57,
   "id": "e46797a6-5111-42d7-aaae-38a68cbb0a93",
   "metadata": {},
   "outputs": [
    {
     "name": "stdout",
     "output_type": "stream",
     "text": [
      "[1, 2, 10]\n"
     ]
    }
   ],
   "source": [
    "numbers = [1, 2]\n",
    "numbers.append(10)\n",
    "print(numbers)"
   ]
  },
  {
   "cell_type": "code",
   "execution_count": 58,
   "id": "e0426020-e613-484a-92b0-16f3b95c01a1",
   "metadata": {},
   "outputs": [],
   "source": [
    "numbers.insert(2, 3)"
   ]
  },
  {
   "cell_type": "code",
   "execution_count": 59,
   "id": "2476f8fc-6e26-4875-ba05-c6292e70800b",
   "metadata": {},
   "outputs": [
    {
     "name": "stdout",
     "output_type": "stream",
     "text": [
      "[1, 2, 3, 4, 5, 10]\n"
     ]
    }
   ],
   "source": [
    "numbers.insert(3, 4)\n",
    "numbers.insert(4, 5)\n",
    "print(numbers)"
   ]
  },
  {
   "cell_type": "code",
   "execution_count": 60,
   "id": "45b0f878-558f-4f82-8550-c302b3f44569",
   "metadata": {},
   "outputs": [
    {
     "name": "stdout",
     "output_type": "stream",
     "text": [
      "[1, 2, 3, 4, 5, 9, 10]\n"
     ]
    }
   ],
   "source": [
    "numbers.insert(-1, 9)\n",
    "print(numbers)"
   ]
  },
  {
   "cell_type": "code",
   "execution_count": 63,
   "id": "219ee8a5-a8f9-4b54-adbb-3271488c93c6",
   "metadata": {},
   "outputs": [],
   "source": [
    "numbers.extend([11, 12])"
   ]
  },
  {
   "cell_type": "code",
   "execution_count": 64,
   "id": "0a3f35ee-9d3f-4934-87d0-a9fd0847d323",
   "metadata": {},
   "outputs": [
    {
     "name": "stdout",
     "output_type": "stream",
     "text": [
      "[1, 2, 3, 4, 5, 9, 10, 11, 12]\n"
     ]
    }
   ],
   "source": [
    "print(numbers)"
   ]
  },
  {
   "cell_type": "code",
   "execution_count": 65,
   "id": "6647030d-addf-42db-a8c0-178a626445b4",
   "metadata": {},
   "outputs": [],
   "source": [
    "numbers.remove(3)"
   ]
  },
  {
   "cell_type": "code",
   "execution_count": 66,
   "id": "cc90bcb6-c7ef-4211-8e9c-1ace855558ee",
   "metadata": {},
   "outputs": [
    {
     "name": "stdout",
     "output_type": "stream",
     "text": [
      "[1, 2, 4, 5, 9, 10, 11, 12]\n"
     ]
    }
   ],
   "source": [
    "print(numbers)"
   ]
  },
  {
   "cell_type": "code",
   "execution_count": 67,
   "id": "b10cb7d7-b365-4646-802c-de7dffbc2b38",
   "metadata": {},
   "outputs": [],
   "source": [
    "numbers.insert(2, 3)"
   ]
  },
  {
   "cell_type": "code",
   "execution_count": 68,
   "id": "0029bd5b-c446-4bde-891c-3dc2f2953341",
   "metadata": {},
   "outputs": [
    {
     "name": "stdout",
     "output_type": "stream",
     "text": [
      "[1, 2, 3, 4, 5, 9, 10, 11, 12]\n"
     ]
    }
   ],
   "source": [
    "print(numbers)"
   ]
  },
  {
   "cell_type": "code",
   "execution_count": 69,
   "id": "70059dc6-97ea-4336-9ee7-e09c15bc5889",
   "metadata": {},
   "outputs": [
    {
     "data": {
      "text/plain": [
       "4"
      ]
     },
     "execution_count": 69,
     "metadata": {},
     "output_type": "execute_result"
    }
   ],
   "source": [
    "numbers.pop(3)"
   ]
  },
  {
   "cell_type": "code",
   "execution_count": 70,
   "id": "65dbf611-3383-4df3-af4c-7626e69bc945",
   "metadata": {},
   "outputs": [
    {
     "name": "stdout",
     "output_type": "stream",
     "text": [
      "[1, 2, 3, 5, 9, 10, 11, 12]\n"
     ]
    }
   ],
   "source": [
    "print(numbers)"
   ]
  },
  {
   "cell_type": "code",
   "execution_count": 71,
   "id": "0da2d629-2769-409d-a8df-7df3a3723dd1",
   "metadata": {},
   "outputs": [],
   "source": [
    "numbers.insert(3, 4)"
   ]
  },
  {
   "cell_type": "code",
   "execution_count": 72,
   "id": "f07e4516-dbe0-427c-bbad-dd03ce9d6c54",
   "metadata": {},
   "outputs": [
    {
     "name": "stdout",
     "output_type": "stream",
     "text": [
      "[1, 2, 3, 4, 5, 9, 10, 11, 12]\n"
     ]
    }
   ],
   "source": [
    "print(numbers)"
   ]
  },
  {
   "cell_type": "code",
   "execution_count": 73,
   "id": "f98d8b56-5540-4950-b2a9-f7cbe6e9b4d7",
   "metadata": {},
   "outputs": [
    {
     "name": "stdout",
     "output_type": "stream",
     "text": [
      "['Allison', 'Clare', 'Grace', 'Trevor']\n",
      "('Grace', 'Clare', 'Allison', 'Trevor')\n",
      "['Grace', 'Clare', 'Allison', 'Trevor']\n",
      "None\n",
      "['Allison', 'Clare', 'Grace', 'Trevor']\n"
     ]
    }
   ],
   "source": [
    "names = ('Grace', 'Clare', 'Allison', 'Trevor')\n",
    "print(sorted(names))\n",
    "# ['Allison', 'Clare', 'Grace', 'Trevor']\n",
    "\n",
    "print(names)\n",
    "# ('Grace', 'Clare', 'Allison', 'Trevor')\n",
    "\n",
    "names = list(names)\n",
    "print(names)\n",
    "# ['Grace', 'Clare', 'Allison', 'Trevor']\n",
    "\n",
    "print(names.sort())   # None\n",
    "print(names)\n",
    "# ['Allison', 'Clare', 'Grace', 'Trevor']"
   ]
  },
  {
   "cell_type": "code",
   "execution_count": 16,
   "id": "442b1756-ebcd-4d71-9d5e-ea48b7cff644",
   "metadata": {},
   "outputs": [
    {
     "name": "stdout",
     "output_type": "stream",
     "text": [
      "('Trevor', 'Allison', 'Clare', 'Grace')\n",
      "['Trevor', 'Allison', 'Clare', 'Grace']\n"
     ]
    }
   ],
   "source": [
    "names = ('Grace', 'Clare', 'Allison', 'Trevor')\n",
    "reversed_names = reversed(names)\n",
    "print(tuple(reversed_names))\n",
    "names = list(names)\n",
    "names.reverse()\n",
    "print(names)\n"
   ]
  },
  {
   "cell_type": "code",
   "execution_count": 17,
   "id": "b59c9972-423a-48ab-b2fa-7af522d307a0",
   "metadata": {},
   "outputs": [
    {
     "name": "stdout",
     "output_type": "stream",
     "text": [
      "<dict_reversekeyiterator object at 0x10de02110>\n"
     ]
    }
   ],
   "source": [
    "my_dict = {'abc': 1, 'xyz': 23, 'pqr': 0, 'jkl': 5}\n",
    "reversed_dict = reversed(my_dict)\n",
    "print(reversed_dict)"
   ]
  },
  {
   "cell_type": "code",
   "execution_count": 19,
   "id": "e3a20256-6068-4632-9f88-616d1c3e118e",
   "metadata": {},
   "outputs": [
    {
     "name": "stdout",
     "output_type": "stream",
     "text": [
      "['jkl', 'pqr', 'xyz', 'abc']\n"
     ]
    }
   ],
   "source": [
    "print(list(reversed_dict))"
   ]
  },
  {
   "cell_type": "code",
   "execution_count": 22,
   "id": "1f7afd3e-b0bd-4a22-94c9-da563d01c8f2",
   "metadata": {},
   "outputs": [
    {
     "name": "stdout",
     "output_type": "stream",
     "text": [
      "Threrehhhhfsfefd\n",
      "45ssjfgsd\n"
     ]
    }
   ],
   "source": [
    "print('tHrerehHHHFSFefd'.capitalize())\n",
    "print('45ssjfgsd'.capitalize())"
   ]
  },
  {
   "cell_type": "code",
   "execution_count": 30,
   "id": "8b32a537-3bfb-4220-9705-7a823c68b1ca",
   "metadata": {},
   "outputs": [
    {
     "name": "stdout",
     "output_type": "stream",
     "text": [
      "This Is A Test On The Tittle's Thing\n"
     ]
    }
   ],
   "source": [
    "import string\n",
    "print(string.capwords(\"this iS a teSt oN the tItTle's thiNG\"))"
   ]
  },
  {
   "cell_type": "code",
   "execution_count": null,
   "id": "c4e3d78d-cba1-47ad-be00-7dabf7a4cf91",
   "metadata": {},
   "outputs": [],
   "source": [
    "# strip is where i ended on "
   ]
  },
  {
   "cell_type": "code",
   "execution_count": 10,
   "id": "667990ca-5459-4814-9eb0-bd2fb31f6a8b",
   "metadata": {},
   "outputs": [
    {
     "name": "stdout",
     "output_type": "stream",
     "text": [
      "'tttttttttttttthis is a test for representation \\n\\r'\n",
      "tttttttttttttthis is a test for representation \n",
      "\n",
      "'his is a test for representation \\n\\r'\n"
     ]
    }
   ],
   "source": [
    "text = \"tttttttttttttthis is a test for representation \\n\\r\"\n",
    "print(repr(text))\n",
    "print(text)\n",
    "print(repr(text.strip('t')))"
   ]
  },
  {
   "cell_type": "code",
   "execution_count": 13,
   "id": "d721bc67-e1e0-49c3-b466-15574265f72d",
   "metadata": {},
   "outputs": [
    {
     "name": "stdout",
     "output_type": "stream",
     "text": [
      "xyz\n"
     ]
    }
   ],
   "source": [
    "text = 'aaabbbbccaaacbcaaaabcaabcaxyzbbbbacababaaaabbaaa'\n",
    "print(text.strip('abc'))"
   ]
  },
  {
   "cell_type": "code",
   "execution_count": 20,
   "id": "2ad57919-0a59-4959-8458-eb2a98332e16",
   "metadata": {},
   "outputs": [
    {
     "data": {
      "text/plain": [
       "True"
      ]
     },
     "execution_count": 20,
     "metadata": {},
     "output_type": "execute_result"
    }
   ],
   "source": [
    "start_test = 'This is a test for the start and end with methods'\n",
    "start_test.startswith(('This is a test', 'This test', 'For the test'))"
   ]
  },
  {
   "cell_type": "code",
   "execution_count": 26,
   "id": "bc2df5db-3618-4858-9f9a-295321970a49",
   "metadata": {},
   "outputs": [
    {
     "data": {
      "text/plain": [
       "True"
      ]
     },
     "execution_count": 26,
     "metadata": {},
     "output_type": "execute_result"
    }
   ],
   "source": [
    "start_test.startswith('test', 10)"
   ]
  },
  {
   "cell_type": "code",
   "execution_count": 27,
   "id": "2c33d344-ffd4-4311-9705-8e1986424ceb",
   "metadata": {},
   "outputs": [],
   "source": [
    "split_test = start_test.split()"
   ]
  },
  {
   "cell_type": "code",
   "execution_count": 28,
   "id": "6f2553a2-3f76-4777-90ad-2b842b2071be",
   "metadata": {},
   "outputs": [
    {
     "name": "stdout",
     "output_type": "stream",
     "text": [
      "['This', 'is', 'a', 'test', 'for', 'the', 'start', 'and', 'end', 'with', 'methods']\n"
     ]
    }
   ],
   "source": [
    "print(split_test)"
   ]
  },
  {
   "cell_type": "code",
   "execution_count": 29,
   "id": "0c1a8f5b-1960-445d-913e-3bba0d0ca4ab",
   "metadata": {},
   "outputs": [
    {
     "data": {
      "text/plain": [
       "'This'"
      ]
     },
     "execution_count": 29,
     "metadata": {},
     "output_type": "execute_result"
    }
   ],
   "source": [
    "split_test[0]"
   ]
  },
  {
   "cell_type": "code",
   "execution_count": 30,
   "id": "a6be90b3-7282-4ea2-a786-9d4e68f2b416",
   "metadata": {},
   "outputs": [
    {
     "data": {
      "text/plain": [
       "['T', 'h', 'i', 's']"
      ]
     },
     "execution_count": 30,
     "metadata": {},
     "output_type": "execute_result"
    }
   ],
   "source": [
    "list(split_test[0])"
   ]
  },
  {
   "cell_type": "code",
   "execution_count": 38,
   "id": "df79e9ed-1ad6-4f80-be08-87c63f79a830",
   "metadata": {},
   "outputs": [
    {
     "name": "stdout",
     "output_type": "stream",
     "text": [
      "['You were lucky to have a room. We used to have to', 'live in a corridor.', \"Oh we used to dream of livin' in a corridor!\", \"Woulda' been a palace to us. We used to live in an\", 'old water tank on a rubbish tip. We got woken up', 'every morning by having a load of rotting fish', 'dumped all over us.']\n"
     ]
    }
   ],
   "source": [
    "lines = '''\n",
    "You were lucky to have a room. We used to have to\n",
    "live in a corridor.\n",
    "Oh we used to dream of livin' in a corridor!\n",
    "Woulda' been a palace to us. We used to live in an\n",
    "old water tank on a rubbish tip. We got woken up\n",
    "every morning by having a load of rotting fish\n",
    "dumped all over us.\n",
    "'''\n",
    "print(lines.strip().splitlines())"
   ]
  },
  {
   "cell_type": "code",
   "execution_count": 41,
   "id": "3155ce5b-891d-44b8-8581-24d339141d77",
   "metadata": {},
   "outputs": [],
   "source": [
    "lines_list = lines.split()"
   ]
  },
  {
   "cell_type": "code",
   "execution_count": 47,
   "id": "558b9729-1bf6-4f67-9fd2-cdaef5a0ab2e",
   "metadata": {},
   "outputs": [],
   "source": [
    "lines_separated = ' - '.join(lines_list)"
   ]
  },
  {
   "cell_type": "code",
   "execution_count": 49,
   "id": "93122112-fa67-4ddd-bb2d-f76e3b3b8432",
   "metadata": {},
   "outputs": [
    {
     "name": "stdout",
     "output_type": "stream",
     "text": [
      "321\n"
     ]
    }
   ],
   "source": [
    "print(lines_separated.find('morning'))"
   ]
  },
  {
   "cell_type": "code",
   "execution_count": 53,
   "id": "61b80684-13a2-41f0-96eb-8b395dce3b9e",
   "metadata": {},
   "outputs": [
    {
     "name": "stdout",
     "output_type": "stream",
     "text": [
      "morning\n"
     ]
    }
   ],
   "source": [
    "print(lines_separated[321:328])"
   ]
  },
  {
   "cell_type": "code",
   "execution_count": 54,
   "id": "2f5931b6-efea-4bd3-90f3-dc3da1ff58b8",
   "metadata": {},
   "outputs": [
    {
     "data": {
      "text/plain": [
       "50"
      ]
     },
     "execution_count": 54,
     "metadata": {},
     "output_type": "execute_result"
    }
   ],
   "source": [
    "lines_list.index('morning')"
   ]
  },
  {
   "cell_type": "code",
   "execution_count": 55,
   "id": "80cba908-23aa-4682-a602-7a8b827e4863",
   "metadata": {},
   "outputs": [
    {
     "name": "stdout",
     "output_type": "stream",
     "text": [
      "morning\n"
     ]
    }
   ],
   "source": [
    "print(lines_list[50])"
   ]
  },
  {
   "cell_type": "code",
   "execution_count": 56,
   "id": "05be36b1-0ef0-49fc-981e-3c4045713af5",
   "metadata": {},
   "outputs": [
    {
     "name": "stdout",
     "output_type": "stream",
     "text": [
      "272\n"
     ]
    }
   ],
   "source": [
    "print(lines_separated.rfind('rubbish'))"
   ]
  },
  {
   "cell_type": "code",
   "execution_count": 57,
   "id": "1a68cb81-e333-4d8d-9913-ef5046dc2cd6",
   "metadata": {},
   "outputs": [
    {
     "name": "stdout",
     "output_type": "stream",
     "text": [
      "3\n"
     ]
    }
   ],
   "source": [
    "text = 'abc abc def abc'\n",
    "print(text[3:10].find('c'))"
   ]
  },
  {
   "cell_type": "code",
   "execution_count": 58,
   "id": "d716675d-7cac-4ef9-a5cd-aacdc1c3a9ab",
   "metadata": {},
   "outputs": [
    {
     "name": "stdout",
     "output_type": "stream",
     "text": [
      "6\n"
     ]
    }
   ],
   "source": [
    "print(text.find('c', 3, 10))"
   ]
  },
  {
   "cell_type": "code",
   "execution_count": 1,
   "id": "25663e07-bf01-433a-b7b3-1e24cb2f3317",
   "metadata": {},
   "outputs": [],
   "source": [
    "nested_list = [\n",
    "    {'foo': 42, 'bar': [1, 2, 3], 'qux': None},\n",
    "    {\n",
    "        'Kim',\n",
    "        ('Leslie', 'Les'),\n",
    "        ('Pete', 'Peter'),\n",
    "        ('Jonathan', 'Jon', 'Jack'),\n",
    "    },\n",
    "    (4, 5, (1, 2, 3), 6, 7),\n",
    "    ['a', 'b', 'cde', -3.141592],\n",
    "]\n",
    "        "
   ]
  },
  {
   "cell_type": "code",
   "execution_count": 2,
   "id": "0bced6d1-ca5f-4503-9079-79055bdd5001",
   "metadata": {},
   "outputs": [],
   "source": [
    "my_set = {1, 2, 3, frozenset([4,5])}\n"
   ]
  },
  {
   "cell_type": "code",
   "execution_count": 1,
   "id": "6888d75c-5b1d-436f-a870-c825c62183b0",
   "metadata": {},
   "outputs": [],
   "source": [
    "deck = [\n",
    "    {'suit': 'Clubs', 'value': '2'},\n",
    "    {'suit': 'Spades', 'value': 'King'}\n",
    "]"
   ]
  },
  {
   "cell_type": "code",
   "execution_count": 4,
   "id": "4140c72a-48e4-4277-b2e9-eba7b7f13566",
   "metadata": {},
   "outputs": [
    {
     "name": "stdout",
     "output_type": "stream",
     "text": [
      "2 of Clubs\n"
     ]
    }
   ],
   "source": [
    "print(f\"{deck[0]['value']} of {deck[0]['suit']}\")"
   ]
  },
  {
   "cell_type": "code",
   "execution_count": 6,
   "id": "d99b871f-fd82-47dd-8983-a287a43a5c30",
   "metadata": {},
   "outputs": [
    {
     "name": "stdout",
     "output_type": "stream",
     "text": [
      "18\n"
     ]
    }
   ],
   "source": [
    "range_list = range(0, 25, 3)\n",
    "print(range_list[6])\n"
   ]
  },
  {
   "cell_type": "code",
   "execution_count": 12,
   "id": "a7ff3407-4b8e-4af3-90e7-5782445b0102",
   "metadata": {},
   "outputs": [
    {
     "name": "stdout",
     "output_type": "stream",
     "text": [
      "ch Sch\n"
     ]
    }
   ],
   "source": [
    "text = 'Launch School'\n",
    "slice_text = text[4: 10]\n",
    "print(slice_text)"
   ]
  },
  {
   "cell_type": "code",
   "execution_count": 41,
   "id": "9500bdc3-187e-4c68-b691-8cee8cc6ff03",
   "metadata": {},
   "outputs": [
    {
     "name": "stdout",
     "output_type": "stream",
     "text": [
      "(4, 3, 2)\n"
     ]
    }
   ],
   "source": [
    "tup = (1, 2, 3, 4, 5)\n",
    "new_tup = tup[3:0:-1]\n",
    "print(new_tup)"
   ]
  },
  {
   "cell_type": "code",
   "execution_count": 42,
   "id": "4b053fe9-aa96-4037-b298-c3ee1e40e2a6",
   "metadata": {},
   "outputs": [],
   "source": [
    "pets = {\n",
    "    'Cat':  'Meow',\n",
    "    'Dog':  'Bark',\n",
    "    'Bird': 'Tweet',\n",
    "}\n"
   ]
  },
  {
   "cell_type": "code",
   "execution_count": 53,
   "id": "c621d554-6f2f-45a3-9160-6fd474b72f8b",
   "metadata": {},
   "outputs": [
    {
     "data": {
      "text/plain": [
       "'<silence>'"
      ]
     },
     "execution_count": 53,
     "metadata": {},
     "output_type": "execute_result"
    }
   ],
   "source": [
    "pets.get('Lizard', '<silence>')"
   ]
  },
  {
   "cell_type": "code",
   "execution_count": 59,
   "id": "386c73ce-b1c7-4a86-9705-be3e925238e4",
   "metadata": {},
   "outputs": [
    {
     "name": "stdout",
     "output_type": "stream",
     "text": [
      "True\n"
     ]
    }
   ],
   "source": [
    "print('abcdef'.isalpha())\n"
   ]
  },
  {
   "cell_type": "code",
   "execution_count": 60,
   "id": "5553c1dc-3218-405e-bbeb-2c09da5fd42e",
   "metadata": {},
   "outputs": [],
   "source": [
    "info = 'xyz:*:42:42:Lee Kim:/home/xyz:/bin/zsh'"
   ]
  },
  {
   "cell_type": "code",
   "execution_count": 63,
   "id": "45ed3860-8f21-4cf2-bacf-68e5dbce3818",
   "metadata": {},
   "outputs": [
    {
     "name": "stdout",
     "output_type": "stream",
     "text": [
      "xyz+*+42+42+Lee Kim+/home/xyz+/bin/zsh\n"
     ]
    }
   ],
   "source": [
    "info_change = info.replace(':', '+')\n",
    "print(info_change)"
   ]
  },
  {
   "cell_type": "code",
   "execution_count": 64,
   "id": "5be09bc7-5de4-4ac3-bd72-438b08647736",
   "metadata": {},
   "outputs": [
    {
     "name": "stdout",
     "output_type": "stream",
     "text": [
      "Help on class str in module builtins:\n",
      "\n",
      "class str(object)\n",
      " |  str(object='') -> str\n",
      " |  str(bytes_or_buffer[, encoding[, errors]]) -> str\n",
      " |\n",
      " |  Create a new string object from the given object. If encoding or\n",
      " |  errors is specified, then the object must expose a data buffer\n",
      " |  that will be decoded using the given encoding and error handler.\n",
      " |  Otherwise, returns the result of object.__str__() (if defined)\n",
      " |  or repr(object).\n",
      " |  encoding defaults to sys.getdefaultencoding().\n",
      " |  errors defaults to 'strict'.\n",
      " |\n",
      " |  Methods defined here:\n",
      " |\n",
      " |  __add__(self, value, /)\n",
      " |      Return self+value.\n",
      " |\n",
      " |  __contains__(self, key, /)\n",
      " |      Return bool(key in self).\n",
      " |\n",
      " |  __eq__(self, value, /)\n",
      " |      Return self==value.\n",
      " |\n",
      " |  __format__(self, format_spec, /)\n",
      " |      Return a formatted version of the string as described by format_spec.\n",
      " |\n",
      " |  __ge__(self, value, /)\n",
      " |      Return self>=value.\n",
      " |\n",
      " |  __getitem__(self, key, /)\n",
      " |      Return self[key].\n",
      " |\n",
      " |  __getnewargs__(...)\n",
      " |\n",
      " |  __gt__(self, value, /)\n",
      " |      Return self>value.\n",
      " |\n",
      " |  __hash__(self, /)\n",
      " |      Return hash(self).\n",
      " |\n",
      " |  __iter__(self, /)\n",
      " |      Implement iter(self).\n",
      " |\n",
      " |  __le__(self, value, /)\n",
      " |      Return self<=value.\n",
      " |\n",
      " |  __len__(self, /)\n",
      " |      Return len(self).\n",
      " |\n",
      " |  __lt__(self, value, /)\n",
      " |      Return self<value.\n",
      " |\n",
      " |  __mod__(self, value, /)\n",
      " |      Return self%value.\n",
      " |\n",
      " |  __mul__(self, value, /)\n",
      " |      Return self*value.\n",
      " |\n",
      " |  __ne__(self, value, /)\n",
      " |      Return self!=value.\n",
      " |\n",
      " |  __repr__(self, /)\n",
      " |      Return repr(self).\n",
      " |\n",
      " |  __rmod__(self, value, /)\n",
      " |      Return value%self.\n",
      " |\n",
      " |  __rmul__(self, value, /)\n",
      " |      Return value*self.\n",
      " |\n",
      " |  __sizeof__(self, /)\n",
      " |      Return the size of the string in memory, in bytes.\n",
      " |\n",
      " |  __str__(self, /)\n",
      " |      Return str(self).\n",
      " |\n",
      " |  capitalize(self, /)\n",
      " |      Return a capitalized version of the string.\n",
      " |\n",
      " |      More specifically, make the first character have upper case and the rest lower\n",
      " |      case.\n",
      " |\n",
      " |  casefold(self, /)\n",
      " |      Return a version of the string suitable for caseless comparisons.\n",
      " |\n",
      " |  center(self, width, fillchar=' ', /)\n",
      " |      Return a centered string of length width.\n",
      " |\n",
      " |      Padding is done using the specified fill character (default is a space).\n",
      " |\n",
      " |  count(...)\n",
      " |      S.count(sub[, start[, end]]) -> int\n",
      " |\n",
      " |      Return the number of non-overlapping occurrences of substring sub in\n",
      " |      string S[start:end].  Optional arguments start and end are\n",
      " |      interpreted as in slice notation.\n",
      " |\n",
      " |  encode(self, /, encoding='utf-8', errors='strict')\n",
      " |      Encode the string using the codec registered for encoding.\n",
      " |\n",
      " |      encoding\n",
      " |        The encoding in which to encode the string.\n",
      " |      errors\n",
      " |        The error handling scheme to use for encoding errors.\n",
      " |        The default is 'strict' meaning that encoding errors raise a\n",
      " |        UnicodeEncodeError.  Other possible values are 'ignore', 'replace' and\n",
      " |        'xmlcharrefreplace' as well as any other name registered with\n",
      " |        codecs.register_error that can handle UnicodeEncodeErrors.\n",
      " |\n",
      " |  endswith(...)\n",
      " |      S.endswith(suffix[, start[, end]]) -> bool\n",
      " |\n",
      " |      Return True if S ends with the specified suffix, False otherwise.\n",
      " |      With optional start, test S beginning at that position.\n",
      " |      With optional end, stop comparing S at that position.\n",
      " |      suffix can also be a tuple of strings to try.\n",
      " |\n",
      " |  expandtabs(self, /, tabsize=8)\n",
      " |      Return a copy where all tab characters are expanded using spaces.\n",
      " |\n",
      " |      If tabsize is not given, a tab size of 8 characters is assumed.\n",
      " |\n",
      " |  find(...)\n",
      " |      S.find(sub[, start[, end]]) -> int\n",
      " |\n",
      " |      Return the lowest index in S where substring sub is found,\n",
      " |      such that sub is contained within S[start:end].  Optional\n",
      " |      arguments start and end are interpreted as in slice notation.\n",
      " |\n",
      " |      Return -1 on failure.\n",
      " |\n",
      " |  format(...)\n",
      " |      S.format(*args, **kwargs) -> str\n",
      " |\n",
      " |      Return a formatted version of S, using substitutions from args and kwargs.\n",
      " |      The substitutions are identified by braces ('{' and '}').\n",
      " |\n",
      " |  format_map(...)\n",
      " |      S.format_map(mapping) -> str\n",
      " |\n",
      " |      Return a formatted version of S, using substitutions from mapping.\n",
      " |      The substitutions are identified by braces ('{' and '}').\n",
      " |\n",
      " |  index(...)\n",
      " |      S.index(sub[, start[, end]]) -> int\n",
      " |\n",
      " |      Return the lowest index in S where substring sub is found,\n",
      " |      such that sub is contained within S[start:end].  Optional\n",
      " |      arguments start and end are interpreted as in slice notation.\n",
      " |\n",
      " |      Raises ValueError when the substring is not found.\n",
      " |\n",
      " |  isalnum(self, /)\n",
      " |      Return True if the string is an alpha-numeric string, False otherwise.\n",
      " |\n",
      " |      A string is alpha-numeric if all characters in the string are alpha-numeric and\n",
      " |      there is at least one character in the string.\n",
      " |\n",
      " |  isalpha(self, /)\n",
      " |      Return True if the string is an alphabetic string, False otherwise.\n",
      " |\n",
      " |      A string is alphabetic if all characters in the string are alphabetic and there\n",
      " |      is at least one character in the string.\n",
      " |\n",
      " |  isascii(self, /)\n",
      " |      Return True if all characters in the string are ASCII, False otherwise.\n",
      " |\n",
      " |      ASCII characters have code points in the range U+0000-U+007F.\n",
      " |      Empty string is ASCII too.\n",
      " |\n",
      " |  isdecimal(self, /)\n",
      " |      Return True if the string is a decimal string, False otherwise.\n",
      " |\n",
      " |      A string is a decimal string if all characters in the string are decimal and\n",
      " |      there is at least one character in the string.\n",
      " |\n",
      " |  isdigit(self, /)\n",
      " |      Return True if the string is a digit string, False otherwise.\n",
      " |\n",
      " |      A string is a digit string if all characters in the string are digits and there\n",
      " |      is at least one character in the string.\n",
      " |\n",
      " |  isidentifier(self, /)\n",
      " |      Return True if the string is a valid Python identifier, False otherwise.\n",
      " |\n",
      " |      Call keyword.iskeyword(s) to test whether string s is a reserved identifier,\n",
      " |      such as \"def\" or \"class\".\n",
      " |\n",
      " |  islower(self, /)\n",
      " |      Return True if the string is a lowercase string, False otherwise.\n",
      " |\n",
      " |      A string is lowercase if all cased characters in the string are lowercase and\n",
      " |      there is at least one cased character in the string.\n",
      " |\n",
      " |  isnumeric(self, /)\n",
      " |      Return True if the string is a numeric string, False otherwise.\n",
      " |\n",
      " |      A string is numeric if all characters in the string are numeric and there is at\n",
      " |      least one character in the string.\n",
      " |\n",
      " |  isprintable(self, /)\n",
      " |      Return True if the string is printable, False otherwise.\n",
      " |\n",
      " |      A string is printable if all of its characters are considered printable in\n",
      " |      repr() or if it is empty.\n",
      " |\n",
      " |  isspace(self, /)\n",
      " |      Return True if the string is a whitespace string, False otherwise.\n",
      " |\n",
      " |      A string is whitespace if all characters in the string are whitespace and there\n",
      " |      is at least one character in the string.\n",
      " |\n",
      " |  istitle(self, /)\n",
      " |      Return True if the string is a title-cased string, False otherwise.\n",
      " |\n",
      " |      In a title-cased string, upper- and title-case characters may only\n",
      " |      follow uncased characters and lowercase characters only cased ones.\n",
      " |\n",
      " |  isupper(self, /)\n",
      " |      Return True if the string is an uppercase string, False otherwise.\n",
      " |\n",
      " |      A string is uppercase if all cased characters in the string are uppercase and\n",
      " |      there is at least one cased character in the string.\n",
      " |\n",
      " |  join(self, iterable, /)\n",
      " |      Concatenate any number of strings.\n",
      " |\n",
      " |      The string whose method is called is inserted in between each given string.\n",
      " |      The result is returned as a new string.\n",
      " |\n",
      " |      Example: '.'.join(['ab', 'pq', 'rs']) -> 'ab.pq.rs'\n",
      " |\n",
      " |  ljust(self, width, fillchar=' ', /)\n",
      " |      Return a left-justified string of length width.\n",
      " |\n",
      " |      Padding is done using the specified fill character (default is a space).\n",
      " |\n",
      " |  lower(self, /)\n",
      " |      Return a copy of the string converted to lowercase.\n",
      " |\n",
      " |  lstrip(self, chars=None, /)\n",
      " |      Return a copy of the string with leading whitespace removed.\n",
      " |\n",
      " |      If chars is given and not None, remove characters in chars instead.\n",
      " |\n",
      " |  partition(self, sep, /)\n",
      " |      Partition the string into three parts using the given separator.\n",
      " |\n",
      " |      This will search for the separator in the string.  If the separator is found,\n",
      " |      returns a 3-tuple containing the part before the separator, the separator\n",
      " |      itself, and the part after it.\n",
      " |\n",
      " |      If the separator is not found, returns a 3-tuple containing the original string\n",
      " |      and two empty strings.\n",
      " |\n",
      " |  removeprefix(self, prefix, /)\n",
      " |      Return a str with the given prefix string removed if present.\n",
      " |\n",
      " |      If the string starts with the prefix string, return string[len(prefix):].\n",
      " |      Otherwise, return a copy of the original string.\n",
      " |\n",
      " |  removesuffix(self, suffix, /)\n",
      " |      Return a str with the given suffix string removed if present.\n",
      " |\n",
      " |      If the string ends with the suffix string and that suffix is not empty,\n",
      " |      return string[:-len(suffix)]. Otherwise, return a copy of the original\n",
      " |      string.\n",
      " |\n",
      " |  replace(self, old, new, count=-1, /)\n",
      " |      Return a copy with all occurrences of substring old replaced by new.\n",
      " |\n",
      " |        count\n",
      " |          Maximum number of occurrences to replace.\n",
      " |          -1 (the default value) means replace all occurrences.\n",
      " |\n",
      " |      If the optional argument count is given, only the first count occurrences are\n",
      " |      replaced.\n",
      " |\n",
      " |  rfind(...)\n",
      " |      S.rfind(sub[, start[, end]]) -> int\n",
      " |\n",
      " |      Return the highest index in S where substring sub is found,\n",
      " |      such that sub is contained within S[start:end].  Optional\n",
      " |      arguments start and end are interpreted as in slice notation.\n",
      " |\n",
      " |      Return -1 on failure.\n",
      " |\n",
      " |  rindex(...)\n",
      " |      S.rindex(sub[, start[, end]]) -> int\n",
      " |\n",
      " |      Return the highest index in S where substring sub is found,\n",
      " |      such that sub is contained within S[start:end].  Optional\n",
      " |      arguments start and end are interpreted as in slice notation.\n",
      " |\n",
      " |      Raises ValueError when the substring is not found.\n",
      " |\n",
      " |  rjust(self, width, fillchar=' ', /)\n",
      " |      Return a right-justified string of length width.\n",
      " |\n",
      " |      Padding is done using the specified fill character (default is a space).\n",
      " |\n",
      " |  rpartition(self, sep, /)\n",
      " |      Partition the string into three parts using the given separator.\n",
      " |\n",
      " |      This will search for the separator in the string, starting at the end. If\n",
      " |      the separator is found, returns a 3-tuple containing the part before the\n",
      " |      separator, the separator itself, and the part after it.\n",
      " |\n",
      " |      If the separator is not found, returns a 3-tuple containing two empty strings\n",
      " |      and the original string.\n",
      " |\n",
      " |  rsplit(self, /, sep=None, maxsplit=-1)\n",
      " |      Return a list of the substrings in the string, using sep as the separator string.\n",
      " |\n",
      " |        sep\n",
      " |          The separator used to split the string.\n",
      " |\n",
      " |          When set to None (the default value), will split on any whitespace\n",
      " |          character (including \\n \\r \\t \\f and spaces) and will discard\n",
      " |          empty strings from the result.\n",
      " |        maxsplit\n",
      " |          Maximum number of splits.\n",
      " |          -1 (the default value) means no limit.\n",
      " |\n",
      " |      Splitting starts at the end of the string and works to the front.\n",
      " |\n",
      " |  rstrip(self, chars=None, /)\n",
      " |      Return a copy of the string with trailing whitespace removed.\n",
      " |\n",
      " |      If chars is given and not None, remove characters in chars instead.\n",
      " |\n",
      " |  split(self, /, sep=None, maxsplit=-1)\n",
      " |      Return a list of the substrings in the string, using sep as the separator string.\n",
      " |\n",
      " |        sep\n",
      " |          The separator used to split the string.\n",
      " |\n",
      " |          When set to None (the default value), will split on any whitespace\n",
      " |          character (including \\n \\r \\t \\f and spaces) and will discard\n",
      " |          empty strings from the result.\n",
      " |        maxsplit\n",
      " |          Maximum number of splits.\n",
      " |          -1 (the default value) means no limit.\n",
      " |\n",
      " |      Splitting starts at the front of the string and works to the end.\n",
      " |\n",
      " |      Note, str.split() is mainly useful for data that has been intentionally\n",
      " |      delimited.  With natural text that includes punctuation, consider using\n",
      " |      the regular expression module.\n",
      " |\n",
      " |  splitlines(self, /, keepends=False)\n",
      " |      Return a list of the lines in the string, breaking at line boundaries.\n",
      " |\n",
      " |      Line breaks are not included in the resulting list unless keepends is given and\n",
      " |      true.\n",
      " |\n",
      " |  startswith(...)\n",
      " |      S.startswith(prefix[, start[, end]]) -> bool\n",
      " |\n",
      " |      Return True if S starts with the specified prefix, False otherwise.\n",
      " |      With optional start, test S beginning at that position.\n",
      " |      With optional end, stop comparing S at that position.\n",
      " |      prefix can also be a tuple of strings to try.\n",
      " |\n",
      " |  strip(self, chars=None, /)\n",
      " |      Return a copy of the string with leading and trailing whitespace removed.\n",
      " |\n",
      " |      If chars is given and not None, remove characters in chars instead.\n",
      " |\n",
      " |  swapcase(self, /)\n",
      " |      Convert uppercase characters to lowercase and lowercase characters to uppercase.\n",
      " |\n",
      " |  title(self, /)\n",
      " |      Return a version of the string where each word is titlecased.\n",
      " |\n",
      " |      More specifically, words start with uppercased characters and all remaining\n",
      " |      cased characters have lower case.\n",
      " |\n",
      " |  translate(self, table, /)\n",
      " |      Replace each character in the string using the given translation table.\n",
      " |\n",
      " |        table\n",
      " |          Translation table, which must be a mapping of Unicode ordinals to\n",
      " |          Unicode ordinals, strings, or None.\n",
      " |\n",
      " |      The table must implement lookup/indexing via __getitem__, for instance a\n",
      " |      dictionary or list.  If this operation raises LookupError, the character is\n",
      " |      left untouched.  Characters mapped to None are deleted.\n",
      " |\n",
      " |  upper(self, /)\n",
      " |      Return a copy of the string converted to uppercase.\n",
      " |\n",
      " |  zfill(self, width, /)\n",
      " |      Pad a numeric string with zeros on the left, to fill a field of the given width.\n",
      " |\n",
      " |      The string is never truncated.\n",
      " |\n",
      " |  ----------------------------------------------------------------------\n",
      " |  Static methods defined here:\n",
      " |\n",
      " |  __new__(*args, **kwargs)\n",
      " |      Create and return a new object.  See help(type) for accurate signature.\n",
      " |\n",
      " |  maketrans(...)\n",
      " |      Return a translation table usable for str.translate().\n",
      " |\n",
      " |      If there is only one argument, it must be a dictionary mapping Unicode\n",
      " |      ordinals (integers) or characters to Unicode ordinals, strings or None.\n",
      " |      Character keys will be then converted to ordinals.\n",
      " |      If there are two arguments, they must be strings of equal length, and\n",
      " |      in the resulting dictionary, each character in x will be mapped to the\n",
      " |      character at the same position in y. If there is a third argument, it\n",
      " |      must be a string, whose characters will be mapped to None in the result.\n",
      "\n"
     ]
    }
   ],
   "source": [
    "help(str)"
   ]
  },
  {
   "cell_type": "code",
   "execution_count": 65,
   "id": "29e8d387-bf26-4b72-9c54-8abb323b0dd4",
   "metadata": {},
   "outputs": [],
   "source": [
    "parts = info.split(':')"
   ]
  },
  {
   "cell_type": "code",
   "execution_count": 66,
   "id": "1da2444d-a275-41f3-ab5a-4a33749c4001",
   "metadata": {},
   "outputs": [
    {
     "name": "stdout",
     "output_type": "stream",
     "text": [
      "['xyz', '*', '42', '42', 'Lee Kim', '/home/xyz', '/bin/zsh']\n"
     ]
    }
   ],
   "source": [
    "print(parts)"
   ]
  },
  {
   "cell_type": "code",
   "execution_count": 67,
   "id": "851595d9-107a-414f-806c-d8318d32371f",
   "metadata": {},
   "outputs": [],
   "source": [
    "result = '+'.join(parts)"
   ]
  },
  {
   "cell_type": "code",
   "execution_count": 69,
   "id": "ed02fea8-5e4a-421a-987b-efc66e0c7b78",
   "metadata": {},
   "outputs": [
    {
     "name": "stdout",
     "output_type": "stream",
     "text": [
      "xyz+*+42+42+Lee Kim+/home/xyz+/bin/zsh\n"
     ]
    }
   ],
   "source": [
    "print(result)"
   ]
  },
  {
   "cell_type": "code",
   "execution_count": 86,
   "id": "1f871592-dd55-4e07-986e-9138b4983049",
   "metadata": {},
   "outputs": [
    {
     "name": "stdout",
     "output_type": "stream",
     "text": [
      "Help on class list in module builtins:\n",
      "\n",
      "class list(object)\n",
      " |  list(iterable=(), /)\n",
      " |\n",
      " |  Built-in mutable sequence.\n",
      " |\n",
      " |  If no argument is given, the constructor creates a new empty list.\n",
      " |  The argument must be an iterable if specified.\n",
      " |\n",
      " |  Methods defined here:\n",
      " |\n",
      " |  __add__(self, value, /)\n",
      " |      Return self+value.\n",
      " |\n",
      " |  __contains__(self, key, /)\n",
      " |      Return bool(key in self).\n",
      " |\n",
      " |  __delitem__(self, key, /)\n",
      " |      Delete self[key].\n",
      " |\n",
      " |  __eq__(self, value, /)\n",
      " |      Return self==value.\n",
      " |\n",
      " |  __ge__(self, value, /)\n",
      " |      Return self>=value.\n",
      " |\n",
      " |  __getattribute__(self, name, /)\n",
      " |      Return getattr(self, name).\n",
      " |\n",
      " |  __getitem__(self, index, /)\n",
      " |      Return self[index].\n",
      " |\n",
      " |  __gt__(self, value, /)\n",
      " |      Return self>value.\n",
      " |\n",
      " |  __iadd__(self, value, /)\n",
      " |      Implement self+=value.\n",
      " |\n",
      " |  __imul__(self, value, /)\n",
      " |      Implement self*=value.\n",
      " |\n",
      " |  __init__(self, /, *args, **kwargs)\n",
      " |      Initialize self.  See help(type(self)) for accurate signature.\n",
      " |\n",
      " |  __iter__(self, /)\n",
      " |      Implement iter(self).\n",
      " |\n",
      " |  __le__(self, value, /)\n",
      " |      Return self<=value.\n",
      " |\n",
      " |  __len__(self, /)\n",
      " |      Return len(self).\n",
      " |\n",
      " |  __lt__(self, value, /)\n",
      " |      Return self<value.\n",
      " |\n",
      " |  __mul__(self, value, /)\n",
      " |      Return self*value.\n",
      " |\n",
      " |  __ne__(self, value, /)\n",
      " |      Return self!=value.\n",
      " |\n",
      " |  __repr__(self, /)\n",
      " |      Return repr(self).\n",
      " |\n",
      " |  __reversed__(self, /)\n",
      " |      Return a reverse iterator over the list.\n",
      " |\n",
      " |  __rmul__(self, value, /)\n",
      " |      Return value*self.\n",
      " |\n",
      " |  __setitem__(self, key, value, /)\n",
      " |      Set self[key] to value.\n",
      " |\n",
      " |  __sizeof__(self, /)\n",
      " |      Return the size of the list in memory, in bytes.\n",
      " |\n",
      " |  append(self, object, /)\n",
      " |      Append object to the end of the list.\n",
      " |\n",
      " |  clear(self, /)\n",
      " |      Remove all items from list.\n",
      " |\n",
      " |  copy(self, /)\n",
      " |      Return a shallow copy of the list.\n",
      " |\n",
      " |  count(self, value, /)\n",
      " |      Return number of occurrences of value.\n",
      " |\n",
      " |  extend(self, iterable, /)\n",
      " |      Extend list by appending elements from the iterable.\n",
      " |\n",
      " |  index(self, value, start=0, stop=9223372036854775807, /)\n",
      " |      Return first index of value.\n",
      " |\n",
      " |      Raises ValueError if the value is not present.\n",
      " |\n",
      " |  insert(self, index, object, /)\n",
      " |      Insert object before index.\n",
      " |\n",
      " |  pop(self, index=-1, /)\n",
      " |      Remove and return item at index (default last).\n",
      " |\n",
      " |      Raises IndexError if list is empty or index is out of range.\n",
      " |\n",
      " |  remove(self, value, /)\n",
      " |      Remove first occurrence of value.\n",
      " |\n",
      " |      Raises ValueError if the value is not present.\n",
      " |\n",
      " |  reverse(self, /)\n",
      " |      Reverse *IN PLACE*.\n",
      " |\n",
      " |  sort(self, /, *, key=None, reverse=False)\n",
      " |      Sort the list in ascending order and return None.\n",
      " |\n",
      " |      The sort is in-place (i.e. the list itself is modified) and stable (i.e. the\n",
      " |      order of two equal elements is maintained).\n",
      " |\n",
      " |      If a key function is given, apply it once to each list item and sort them,\n",
      " |      ascending or descending, according to their function values.\n",
      " |\n",
      " |      The reverse flag can be set to sort in descending order.\n",
      " |\n",
      " |  ----------------------------------------------------------------------\n",
      " |  Class methods defined here:\n",
      " |\n",
      " |  __class_getitem__(...)\n",
      " |      See PEP 585\n",
      " |\n",
      " |  ----------------------------------------------------------------------\n",
      " |  Static methods defined here:\n",
      " |\n",
      " |  __new__(*args, **kwargs)\n",
      " |      Create and return a new object.  See help(type) for accurate signature.\n",
      " |\n",
      " |  ----------------------------------------------------------------------\n",
      " |  Data and other attributes defined here:\n",
      " |\n",
      " |  __hash__ = None\n",
      "\n"
     ]
    }
   ],
   "source": [
    "stuff = [\n",
    "    ['hello', 'world'],\n",
    "    ['example', 'mem', None, 6, 88],\n",
    "    [4, 8, 12],\n",
    "]\n",
    "\n",
    "help(list)"
   ]
  },
  {
   "cell_type": "code",
   "execution_count": 87,
   "id": "eab50b20-1acd-4d58-a4a2-d3e55c0387ca",
   "metadata": {},
   "outputs": [
    {
     "data": {
      "text/plain": [
       "3"
      ]
     },
     "execution_count": 87,
     "metadata": {},
     "output_type": "execute_result"
    }
   ],
   "source": [
    "stuff[1].index(6)"
   ]
  },
  {
   "cell_type": "code",
   "execution_count": 90,
   "id": "f4d843be-9b84-4823-bbcb-a2ebd9f06c80",
   "metadata": {},
   "outputs": [],
   "source": [
    "stuff[1][3] = 606"
   ]
  },
  {
   "cell_type": "code",
   "execution_count": 89,
   "id": "42e2152d-e946-4dde-a7e0-b41650004b27",
   "metadata": {},
   "outputs": [
    {
     "name": "stdout",
     "output_type": "stream",
     "text": [
      "['example', 'mem', None, 606, 88]\n"
     ]
    }
   ],
   "source": [
    "\n",
    "    "
   ]
  },
  {
   "cell_type": "code",
   "execution_count": 93,
   "id": "68c2a657-0074-4563-a9e2-514d64e4cd52",
   "metadata": {},
   "outputs": [
    {
     "name": "stdout",
     "output_type": "stream",
     "text": [
      "{'playing', 'sleeping', 'chewing', 'eating'}\n"
     ]
    }
   ],
   "source": [
    "cats = {\n",
    "    'Pete': {\n",
    "        'Cheddar': {\n",
    "            'color': 'orange',\n",
    "            'enjoys': {\n",
    "                'sleeping',\n",
    "                'snuggling',\n",
    "                'meowing',\n",
    "                'eating',\n",
    "                'birdwatching',\n",
    "            },\n",
    "        },\n",
    "        'Cocoa': {\n",
    "            'color': 'black',\n",
    "            'enjoys': {\n",
    "                'eating',\n",
    "                'sleeping',\n",
    "                'playing',\n",
    "                'chewing',\n",
    "            },\n",
    "        },\n",
    "    },\n",
    "}\n",
    "\n",
    "\n",
    "print(cats['Pete']['Cocoa']['enjoys'])"
   ]
  },
  {
   "cell_type": "code",
   "execution_count": 98,
   "id": "bec32097-6384-455f-b2a7-8fe86592b331",
   "metadata": {},
   "outputs": [
    {
     "name": "stdout",
     "output_type": "stream",
     "text": [
      "False\n",
      "[0, 1, 2, 3]\n"
     ]
    }
   ],
   "source": [
    "print('test' in 'this is a Test')\n",
    "print(list(range(4))"
   ]
  },
  {
   "cell_type": "code",
   "execution_count": 99,
   "id": "7bc59411-f7df-4bfa-b3a5-fc4bf28938c3",
   "metadata": {},
   "outputs": [
    {
     "name": "stdout",
     "output_type": "stream",
     "text": [
      "True\n",
      "False\n",
      "False\n",
      "False\n",
      "True\n"
     ]
    }
   ],
   "source": [
    "numbers1 = [1, 3, 5, 7, 9, 11]\n",
    "numbers2 = []\n",
    "numbers3 = [2, 4, 6, 8]\n",
    "numbers4 = ['1', '3', '5']\n",
    "numbers5 = ['1', 3.0, '5']\n",
    "\n",
    "print(3 in numbers1)\n",
    "print(3 in numbers2)\n",
    "print(3 in numbers3)\n",
    "print(3 in numbers4)\n",
    "print(3 in numbers5)"
   ]
  },
  {
   "cell_type": "code",
   "execution_count": 105,
   "id": "c1f465bd-17b0-43e9-86d5-4e663d1cf28c",
   "metadata": {},
   "outputs": [
    {
     "name": "stdout",
     "output_type": "stream",
     "text": [
      "[('a', 'Alpha', None, 10), ('b', 'Bravo', True, 20), ('c', 'Charlie', False, 30)]\n"
     ]
    }
   ],
   "source": [
    "my_str = 'abc'\n",
    "my_list = ['Alpha', 'Bravo', 'Charlie']\n",
    "my_tuple = (None, True, False)\n",
    "my_range = range(10, 60, 10)\n",
    "\n",
    "zipped_lists = list(zip(my_str, my_list, my_tuple, my_range))\n",
    "print(zipped_lists)"
   ]
  },
  {
   "cell_type": "code",
   "execution_count": 108,
   "id": "782c8bd5-773e-4eed-a292-46b6f496cd8d",
   "metadata": {},
   "outputs": [
    {
     "name": "stdout",
     "output_type": "stream",
     "text": [
      "dict_keys(['Cat', 'Bird', 'lizard'])\n"
     ]
    }
   ],
   "source": [
    "pets = {\n",
    "    'Cat':  'Meow',\n",
    "    'Dog':  'Bark',\n",
    "    'Bird': 'Tweet',\n",
    "}\n",
    "\n",
    "keys = pets.keys()\n",
    "del pets['Dog']\n",
    "pets['lizard'] = 'Sssss'\n",
    "print(keys)"
   ]
  },
  {
   "cell_type": "code",
   "execution_count": null,
   "id": "c98d0b00-23e3-4196-956a-7341401b4707",
   "metadata": {},
   "outputs": [],
   "source": []
  }
 ],
 "metadata": {
  "kernelspec": {
   "display_name": "Python 3 (ipykernel)",
   "language": "python",
   "name": "python3"
  },
  "language_info": {
   "codemirror_mode": {
    "name": "ipython",
    "version": 3
   },
   "file_extension": ".py",
   "mimetype": "text/x-python",
   "name": "python",
   "nbconvert_exporter": "python",
   "pygments_lexer": "ipython3",
   "version": "3.12.6"
  }
 },
 "nbformat": 4,
 "nbformat_minor": 5
}
